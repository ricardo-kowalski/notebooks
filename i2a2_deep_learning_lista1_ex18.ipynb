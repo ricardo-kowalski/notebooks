{
  "nbformat": 4,
  "nbformat_minor": 0,
  "metadata": {
    "colab": {
      "name": "i2a2_deep_learning_lista1_ex18.ipynb",
      "version": "0.3.2",
      "provenance": [],
      "collapsed_sections": [],
      "include_colab_link": true
    },
    "kernelspec": {
      "name": "python3",
      "display_name": "Python 3"
    }
  },
  "cells": [
    {
      "cell_type": "markdown",
      "metadata": {
        "id": "view-in-github",
        "colab_type": "text"
      },
      "source": [
        "<a href=\"https://colab.research.google.com/github/ricardo-kowalski/notebooks/blob/master/i2a2_deep_learning_lista1_ex18.ipynb\" target=\"_parent\"><img src=\"https://colab.research.google.com/assets/colab-badge.svg\" alt=\"Open In Colab\"/></a>"
      ]
    },
    {
      "metadata": {
        "id": "ZZ1ab1IxYy-2",
        "colab_type": "code",
        "colab": {}
      },
      "cell_type": "code",
      "source": [
        "#importa as bibliotecas do tensorflow e numpy\n",
        "import numpy as np\n",
        "import tensorflow as tf"
      ],
      "execution_count": 0,
      "outputs": []
    },
    {
      "metadata": {
        "id": "EPb0DQJTY2ei",
        "colab_type": "code",
        "colab": {}
      },
      "cell_type": "code",
      "source": [
        "#inicia uma sessão no tensorflow\n",
        "sess = tf.Session()"
      ],
      "execution_count": 0,
      "outputs": []
    },
    {
      "metadata": {
        "id": "qUSZI80TY4Op",
        "colab_type": "code",
        "colab": {
          "base_uri": "https://localhost:8080/",
          "height": 90
        },
        "outputId": "bbf80ab0-2137-4c4d-a33d-20fb1f688de3"
      },
      "cell_type": "code",
      "source": [
        "#define uma função que mostra o tipo e valor de uma entrada, \n",
        "# após isso atribui à variável 'hello' uma string do tipo constant (cria-se um tensor)\n",
        "# chama a função print_tf, porém as informações desejadas não aparecem \n",
        "# pois a variavel 'hello' apesar de declarada não foi inicializada\n",
        "def print_tf(x):\n",
        "    print(\"TIPO: \\n %s\" % (type(x)))\n",
        "    print(\"Valor: \\n %s\" % (x))\n",
        "hello = tf.constant(\"www.deeplearningbrasil.com.br\")\n",
        "print_tf(hello)"
      ],
      "execution_count": 3,
      "outputs": [
        {
          "output_type": "stream",
          "text": [
            "TIPO: \n",
            " <class 'tensorflow.python.framework.ops.Tensor'>\n",
            "Valor: \n",
            " Tensor(\"Const:0\", shape=(), dtype=string)\n"
          ],
          "name": "stdout"
        }
      ]
    },
    {
      "metadata": {
        "id": "QF5Uy2ebY6BT",
        "colab_type": "code",
        "colab": {
          "base_uri": "https://localhost:8080/",
          "height": 90
        },
        "outputId": "f633f108-4d41-4bb9-af03-ddd971a9d38c"
      },
      "cell_type": "code",
      "source": [
        "#atribui-se à variável 'hello_out' a compilação da variável 'hello'\n",
        "#chama-se novamente a função print_tf dessa vez utilizando a variável anterior\n",
        "#que agora é capaz de compilar a sessão\n",
        "hello_out = sess.run(hello)\n",
        "print_tf(hello_out)"
      ],
      "execution_count": 4,
      "outputs": [
        {
          "output_type": "stream",
          "text": [
            "TIPO: \n",
            " <class 'bytes'>\n",
            "Valor: \n",
            " b'www.deeplearningbrasil.com.br'\n"
          ],
          "name": "stdout"
        }
      ]
    },
    {
      "metadata": {
        "id": "hikfIp18Y8Qx",
        "colab_type": "code",
        "colab": {
          "base_uri": "https://localhost:8080/",
          "height": 163
        },
        "outputId": "563b77bc-0891-462d-c0e5-2b7508704a60"
      },
      "cell_type": "code",
      "source": [
        "#inicializando dois tensores do tipo float\n",
        "#novamente a função print_tf apenas fornece informações sobre\n",
        "#as constantes declaradas e não seus argumentos\n",
        "a = tf.constant(1.5)\n",
        "b = tf.constant(2.5)\n",
        "print_tf(a)\n",
        "print_tf(b)"
      ],
      "execution_count": 5,
      "outputs": [
        {
          "output_type": "stream",
          "text": [
            "TIPO: \n",
            " <class 'tensorflow.python.framework.ops.Tensor'>\n",
            "Valor: \n",
            " Tensor(\"Const_1:0\", shape=(), dtype=float32)\n",
            "TIPO: \n",
            " <class 'tensorflow.python.framework.ops.Tensor'>\n",
            "Valor: \n",
            " Tensor(\"Const_2:0\", shape=(), dtype=float32)\n"
          ],
          "name": "stdout"
        }
      ]
    },
    {
      "metadata": {
        "id": "I75nWbVgY-kB",
        "colab_type": "code",
        "colab": {
          "base_uri": "https://localhost:8080/",
          "height": 163
        },
        "outputId": "0ad27682-8008-40c4-abd6-875523cf1833"
      },
      "cell_type": "code",
      "source": [
        "#rodando a sessão das constantes declaradas anteriormente\n",
        "a_out = sess.run(a)\n",
        "b_out = sess.run(b)\n",
        "print_tf(a_out)\n",
        "print_tf(b_out)"
      ],
      "execution_count": 6,
      "outputs": [
        {
          "output_type": "stream",
          "text": [
            "TIPO: \n",
            " <class 'numpy.float32'>\n",
            "Valor: \n",
            " 1.5\n",
            "TIPO: \n",
            " <class 'numpy.float32'>\n",
            "Valor: \n",
            " 2.5\n"
          ],
          "name": "stdout"
        }
      ]
    },
    {
      "metadata": {
        "id": "enx5VcVYZBy8",
        "colab_type": "code",
        "colab": {
          "base_uri": "https://localhost:8080/",
          "height": 90
        },
        "outputId": "a955e0c8-e552-4b87-a3f7-8a115ab8300c"
      },
      "cell_type": "code",
      "source": [
        "#declarando uma soma das constantes a e b utilizando o operador soma tf.add\n",
        "a_plus_b = tf.add(a, b)\n",
        "print_tf(a_plus_b)"
      ],
      "execution_count": 7,
      "outputs": [
        {
          "output_type": "stream",
          "text": [
            "TIPO: \n",
            " <class 'tensorflow.python.framework.ops.Tensor'>\n",
            "Valor: \n",
            " Tensor(\"Add:0\", shape=(), dtype=float32)\n"
          ],
          "name": "stdout"
        }
      ]
    },
    {
      "metadata": {
        "id": "q5bMEfVzZG9b",
        "colab_type": "code",
        "colab": {
          "base_uri": "https://localhost:8080/",
          "height": 90
        },
        "outputId": "6ea68285-6953-40eb-c89e-8ad75b9773fe"
      },
      "cell_type": "code",
      "source": [
        "#compilando a operação \n",
        "a_plus_b_out = sess.run(a_plus_b)\n",
        "print_tf(a_plus_b_out)"
      ],
      "execution_count": 8,
      "outputs": [
        {
          "output_type": "stream",
          "text": [
            "TIPO: \n",
            " <class 'numpy.float32'>\n",
            "Valor: \n",
            " 4.0\n"
          ],
          "name": "stdout"
        }
      ]
    },
    {
      "metadata": {
        "id": "sIRcdqfGZJiF",
        "colab_type": "code",
        "colab": {
          "base_uri": "https://localhost:8080/",
          "height": 90
        },
        "outputId": "c56ac116-1c6b-454b-a7d1-05b9ccc97bff"
      },
      "cell_type": "code",
      "source": [
        "'''\n",
        "#tf.mul não é um operador reconhecido, o código refeito está logo abaixo\n",
        "a_mul_b = tf.mul(a, b)\n",
        "a_mul_b_out = sess.run(a_mul_b)\n",
        "print_tf(a_mul_b_out)\n",
        "'''\n",
        "#declarando e imprimindo uma multiplicação das constantes a e b \n",
        "#utilizando o operador multiply tf.add\n",
        "a_mul_b = tf.multiply(a, b)\n",
        "a_mul_b_out = sess.run(a_mul_b)\n",
        "print_tf(a_mul_b_out)"
      ],
      "execution_count": 9,
      "outputs": [
        {
          "output_type": "stream",
          "text": [
            "TIPO: \n",
            " <class 'numpy.float32'>\n",
            "Valor: \n",
            " 3.75\n"
          ],
          "name": "stdout"
        }
      ]
    },
    {
      "metadata": {
        "id": "LyQFxVIyZMty",
        "colab_type": "code",
        "colab": {
          "base_uri": "https://localhost:8080/",
          "height": 165
        },
        "outputId": "4c3ebdd0-66f0-442f-b6cb-523a7a91255c"
      },
      "cell_type": "code",
      "source": [
        "#declarando um segundo tipo de dado denominado variable que diferentemente\n",
        "#da utilização usual tem aqui como objetivo a inserção de parametros treinaveis em um grafo\n",
        "weight = tf.Variable(tf.random_normal([5, 2], stddev=0.1))\n",
        "print_tf(weight)"
      ],
      "execution_count": 10,
      "outputs": [
        {
          "output_type": "stream",
          "text": [
            "WARNING:tensorflow:From /usr/local/lib/python3.6/dist-packages/tensorflow/python/framework/op_def_library.py:263: colocate_with (from tensorflow.python.framework.ops) is deprecated and will be removed in a future version.\n",
            "Instructions for updating:\n",
            "Colocations handled automatically by placer.\n",
            "TIPO: \n",
            " <class 'tensorflow.python.ops.variables.RefVariable'>\n",
            "Valor: \n",
            " <tf.Variable 'Variable:0' shape=(5, 2) dtype=float32_ref>\n"
          ],
          "name": "stdout"
        }
      ]
    },
    {
      "metadata": {
        "id": "JtlJ81_6ZQUl",
        "colab_type": "code",
        "colab": {
          "base_uri": "https://localhost:8080/",
          "height": 485
        },
        "outputId": "2a7638d6-03de-42d1-cb20-455dee433d02"
      },
      "cell_type": "code",
      "source": [
        "#como anteriormente compila-se a sessão da variável declarada anteriormente, porém ocorre um \n",
        "#erro pois o tensorflow requer que sejam inicializadas as variáveis globais antes de sua copilação\n",
        "weight_out = sess.run(weight)\n",
        "print_tf(weight_out)"
      ],
      "execution_count": 11,
      "outputs": [
        {
          "output_type": "error",
          "ename": "FailedPreconditionError",
          "evalue": "ignored",
          "traceback": [
            "\u001b[0;31m---------------------------------------------------------------------------\u001b[0m",
            "\u001b[0;31mFailedPreconditionError\u001b[0m                   Traceback (most recent call last)",
            "\u001b[0;32m/usr/local/lib/python3.6/dist-packages/tensorflow/python/client/session.py\u001b[0m in \u001b[0;36m_do_call\u001b[0;34m(self, fn, *args)\u001b[0m\n\u001b[1;32m   1333\u001b[0m     \u001b[0;32mtry\u001b[0m\u001b[0;34m:\u001b[0m\u001b[0;34m\u001b[0m\u001b[0;34m\u001b[0m\u001b[0m\n\u001b[0;32m-> 1334\u001b[0;31m       \u001b[0;32mreturn\u001b[0m \u001b[0mfn\u001b[0m\u001b[0;34m(\u001b[0m\u001b[0;34m*\u001b[0m\u001b[0margs\u001b[0m\u001b[0;34m)\u001b[0m\u001b[0;34m\u001b[0m\u001b[0;34m\u001b[0m\u001b[0m\n\u001b[0m\u001b[1;32m   1335\u001b[0m     \u001b[0;32mexcept\u001b[0m \u001b[0merrors\u001b[0m\u001b[0;34m.\u001b[0m\u001b[0mOpError\u001b[0m \u001b[0;32mas\u001b[0m \u001b[0me\u001b[0m\u001b[0;34m:\u001b[0m\u001b[0;34m\u001b[0m\u001b[0;34m\u001b[0m\u001b[0m\n",
            "\u001b[0;32m/usr/local/lib/python3.6/dist-packages/tensorflow/python/client/session.py\u001b[0m in \u001b[0;36m_run_fn\u001b[0;34m(feed_dict, fetch_list, target_list, options, run_metadata)\u001b[0m\n\u001b[1;32m   1318\u001b[0m       return self._call_tf_sessionrun(\n\u001b[0;32m-> 1319\u001b[0;31m           options, feed_dict, fetch_list, target_list, run_metadata)\n\u001b[0m\u001b[1;32m   1320\u001b[0m \u001b[0;34m\u001b[0m\u001b[0m\n",
            "\u001b[0;32m/usr/local/lib/python3.6/dist-packages/tensorflow/python/client/session.py\u001b[0m in \u001b[0;36m_call_tf_sessionrun\u001b[0;34m(self, options, feed_dict, fetch_list, target_list, run_metadata)\u001b[0m\n\u001b[1;32m   1406\u001b[0m         \u001b[0mself\u001b[0m\u001b[0;34m.\u001b[0m\u001b[0m_session\u001b[0m\u001b[0;34m,\u001b[0m \u001b[0moptions\u001b[0m\u001b[0;34m,\u001b[0m \u001b[0mfeed_dict\u001b[0m\u001b[0;34m,\u001b[0m \u001b[0mfetch_list\u001b[0m\u001b[0;34m,\u001b[0m \u001b[0mtarget_list\u001b[0m\u001b[0;34m,\u001b[0m\u001b[0;34m\u001b[0m\u001b[0;34m\u001b[0m\u001b[0m\n\u001b[0;32m-> 1407\u001b[0;31m         run_metadata)\n\u001b[0m\u001b[1;32m   1408\u001b[0m \u001b[0;34m\u001b[0m\u001b[0m\n",
            "\u001b[0;31mFailedPreconditionError\u001b[0m: Attempting to use uninitialized value Variable\n\t [[{{node _retval_Variable_0_0}}]]",
            "\nDuring handling of the above exception, another exception occurred:\n",
            "\u001b[0;31mFailedPreconditionError\u001b[0m                   Traceback (most recent call last)",
            "\u001b[0;32m<ipython-input-11-6f58b8cb3143>\u001b[0m in \u001b[0;36m<module>\u001b[0;34m()\u001b[0m\n\u001b[0;32m----> 1\u001b[0;31m \u001b[0mweight_out\u001b[0m \u001b[0;34m=\u001b[0m \u001b[0msess\u001b[0m\u001b[0;34m.\u001b[0m\u001b[0mrun\u001b[0m\u001b[0;34m(\u001b[0m\u001b[0mweight\u001b[0m\u001b[0;34m)\u001b[0m\u001b[0;34m\u001b[0m\u001b[0;34m\u001b[0m\u001b[0m\n\u001b[0m\u001b[1;32m      2\u001b[0m \u001b[0mprint_tf\u001b[0m\u001b[0;34m(\u001b[0m\u001b[0mweight_out\u001b[0m\u001b[0;34m)\u001b[0m\u001b[0;34m\u001b[0m\u001b[0;34m\u001b[0m\u001b[0m\n",
            "\u001b[0;32m/usr/local/lib/python3.6/dist-packages/tensorflow/python/client/session.py\u001b[0m in \u001b[0;36mrun\u001b[0;34m(self, fetches, feed_dict, options, run_metadata)\u001b[0m\n\u001b[1;32m    927\u001b[0m     \u001b[0;32mtry\u001b[0m\u001b[0;34m:\u001b[0m\u001b[0;34m\u001b[0m\u001b[0;34m\u001b[0m\u001b[0m\n\u001b[1;32m    928\u001b[0m       result = self._run(None, fetches, feed_dict, options_ptr,\n\u001b[0;32m--> 929\u001b[0;31m                          run_metadata_ptr)\n\u001b[0m\u001b[1;32m    930\u001b[0m       \u001b[0;32mif\u001b[0m \u001b[0mrun_metadata\u001b[0m\u001b[0;34m:\u001b[0m\u001b[0;34m\u001b[0m\u001b[0;34m\u001b[0m\u001b[0m\n\u001b[1;32m    931\u001b[0m         \u001b[0mproto_data\u001b[0m \u001b[0;34m=\u001b[0m \u001b[0mtf_session\u001b[0m\u001b[0;34m.\u001b[0m\u001b[0mTF_GetBuffer\u001b[0m\u001b[0;34m(\u001b[0m\u001b[0mrun_metadata_ptr\u001b[0m\u001b[0;34m)\u001b[0m\u001b[0;34m\u001b[0m\u001b[0;34m\u001b[0m\u001b[0m\n",
            "\u001b[0;32m/usr/local/lib/python3.6/dist-packages/tensorflow/python/client/session.py\u001b[0m in \u001b[0;36m_run\u001b[0;34m(self, handle, fetches, feed_dict, options, run_metadata)\u001b[0m\n\u001b[1;32m   1150\u001b[0m     \u001b[0;32mif\u001b[0m \u001b[0mfinal_fetches\u001b[0m \u001b[0;32mor\u001b[0m \u001b[0mfinal_targets\u001b[0m \u001b[0;32mor\u001b[0m \u001b[0;34m(\u001b[0m\u001b[0mhandle\u001b[0m \u001b[0;32mand\u001b[0m \u001b[0mfeed_dict_tensor\u001b[0m\u001b[0;34m)\u001b[0m\u001b[0;34m:\u001b[0m\u001b[0;34m\u001b[0m\u001b[0;34m\u001b[0m\u001b[0m\n\u001b[1;32m   1151\u001b[0m       results = self._do_run(handle, final_targets, final_fetches,\n\u001b[0;32m-> 1152\u001b[0;31m                              feed_dict_tensor, options, run_metadata)\n\u001b[0m\u001b[1;32m   1153\u001b[0m     \u001b[0;32melse\u001b[0m\u001b[0;34m:\u001b[0m\u001b[0;34m\u001b[0m\u001b[0;34m\u001b[0m\u001b[0m\n\u001b[1;32m   1154\u001b[0m       \u001b[0mresults\u001b[0m \u001b[0;34m=\u001b[0m \u001b[0;34m[\u001b[0m\u001b[0;34m]\u001b[0m\u001b[0;34m\u001b[0m\u001b[0;34m\u001b[0m\u001b[0m\n",
            "\u001b[0;32m/usr/local/lib/python3.6/dist-packages/tensorflow/python/client/session.py\u001b[0m in \u001b[0;36m_do_run\u001b[0;34m(self, handle, target_list, fetch_list, feed_dict, options, run_metadata)\u001b[0m\n\u001b[1;32m   1326\u001b[0m     \u001b[0;32mif\u001b[0m \u001b[0mhandle\u001b[0m \u001b[0;32mis\u001b[0m \u001b[0;32mNone\u001b[0m\u001b[0;34m:\u001b[0m\u001b[0;34m\u001b[0m\u001b[0;34m\u001b[0m\u001b[0m\n\u001b[1;32m   1327\u001b[0m       return self._do_call(_run_fn, feeds, fetches, targets, options,\n\u001b[0;32m-> 1328\u001b[0;31m                            run_metadata)\n\u001b[0m\u001b[1;32m   1329\u001b[0m     \u001b[0;32melse\u001b[0m\u001b[0;34m:\u001b[0m\u001b[0;34m\u001b[0m\u001b[0;34m\u001b[0m\u001b[0m\n\u001b[1;32m   1330\u001b[0m       \u001b[0;32mreturn\u001b[0m \u001b[0mself\u001b[0m\u001b[0;34m.\u001b[0m\u001b[0m_do_call\u001b[0m\u001b[0;34m(\u001b[0m\u001b[0m_prun_fn\u001b[0m\u001b[0;34m,\u001b[0m \u001b[0mhandle\u001b[0m\u001b[0;34m,\u001b[0m \u001b[0mfeeds\u001b[0m\u001b[0;34m,\u001b[0m \u001b[0mfetches\u001b[0m\u001b[0;34m)\u001b[0m\u001b[0;34m\u001b[0m\u001b[0;34m\u001b[0m\u001b[0m\n",
            "\u001b[0;32m/usr/local/lib/python3.6/dist-packages/tensorflow/python/client/session.py\u001b[0m in \u001b[0;36m_do_call\u001b[0;34m(self, fn, *args)\u001b[0m\n\u001b[1;32m   1346\u001b[0m           \u001b[0;32mpass\u001b[0m\u001b[0;34m\u001b[0m\u001b[0;34m\u001b[0m\u001b[0m\n\u001b[1;32m   1347\u001b[0m       \u001b[0mmessage\u001b[0m \u001b[0;34m=\u001b[0m \u001b[0merror_interpolation\u001b[0m\u001b[0;34m.\u001b[0m\u001b[0minterpolate\u001b[0m\u001b[0;34m(\u001b[0m\u001b[0mmessage\u001b[0m\u001b[0;34m,\u001b[0m \u001b[0mself\u001b[0m\u001b[0;34m.\u001b[0m\u001b[0m_graph\u001b[0m\u001b[0;34m)\u001b[0m\u001b[0;34m\u001b[0m\u001b[0;34m\u001b[0m\u001b[0m\n\u001b[0;32m-> 1348\u001b[0;31m       \u001b[0;32mraise\u001b[0m \u001b[0mtype\u001b[0m\u001b[0;34m(\u001b[0m\u001b[0me\u001b[0m\u001b[0;34m)\u001b[0m\u001b[0;34m(\u001b[0m\u001b[0mnode_def\u001b[0m\u001b[0;34m,\u001b[0m \u001b[0mop\u001b[0m\u001b[0;34m,\u001b[0m \u001b[0mmessage\u001b[0m\u001b[0;34m)\u001b[0m\u001b[0;34m\u001b[0m\u001b[0;34m\u001b[0m\u001b[0m\n\u001b[0m\u001b[1;32m   1349\u001b[0m \u001b[0;34m\u001b[0m\u001b[0m\n\u001b[1;32m   1350\u001b[0m   \u001b[0;32mdef\u001b[0m \u001b[0m_extend_graph\u001b[0m\u001b[0;34m(\u001b[0m\u001b[0mself\u001b[0m\u001b[0;34m)\u001b[0m\u001b[0;34m:\u001b[0m\u001b[0;34m\u001b[0m\u001b[0;34m\u001b[0m\u001b[0m\n",
            "\u001b[0;31mFailedPreconditionError\u001b[0m: Attempting to use uninitialized value Variable\n\t [[{{node _retval_Variable_0_0}}]]"
          ]
        }
      ]
    },
    {
      "metadata": {
        "id": "qEuZhyOtZTfS",
        "colab_type": "code",
        "colab": {
          "base_uri": "https://localhost:8080/",
          "height": 92
        },
        "outputId": "36182fb9-2acf-4304-cd22-9e8ff91fa315"
      },
      "cell_type": "code",
      "source": [
        "#aqui é então inicializado a utilização das variáveis globais no tensorflow e a sessão à roda \n",
        "init = tf.initialize_all_variables()\n",
        "sess.run(init)"
      ],
      "execution_count": 12,
      "outputs": [
        {
          "output_type": "stream",
          "text": [
            "WARNING:tensorflow:From /usr/local/lib/python3.6/dist-packages/tensorflow/python/util/tf_should_use.py:193: initialize_all_variables (from tensorflow.python.ops.variables) is deprecated and will be removed after 2017-03-02.\n",
            "Instructions for updating:\n",
            "Use `tf.global_variables_initializer` instead.\n"
          ],
          "name": "stdout"
        }
      ]
    },
    {
      "metadata": {
        "id": "TQXUz37ZZU0-",
        "colab_type": "code",
        "colab": {
          "base_uri": "https://localhost:8080/",
          "height": 181
        },
        "outputId": "5a78979d-3600-459d-ef39-6a34b5fe38bf"
      },
      "cell_type": "code",
      "source": [
        "#finalmente é possível compilar a variável weight e imprimir seu conteúdo\n",
        "weight_out = sess.run(weight)\n",
        "print_tf(weight_out)\n",
        "print (\"INITIALIZING ALL VARIALBES\")"
      ],
      "execution_count": 13,
      "outputs": [
        {
          "output_type": "stream",
          "text": [
            "TIPO: \n",
            " <class 'numpy.ndarray'>\n",
            "Valor: \n",
            " [[ 0.07275321  0.10569952]\n",
            " [ 0.14030723  0.01166498]\n",
            " [-0.04998266 -0.03843571]\n",
            " [ 0.08080753 -0.11734322]\n",
            " [-0.01281253 -0.05944102]]\n",
            "INITIALIZING ALL VARIALBES\n"
          ],
          "name": "stdout"
        }
      ]
    },
    {
      "metadata": {
        "id": "WAA83YVMZW36",
        "colab_type": "code",
        "colab": {
          "base_uri": "https://localhost:8080/",
          "height": 90
        },
        "outputId": "9dfb2028-6f58-4c4e-cae1-330a63841342"
      },
      "cell_type": "code",
      "source": [
        "#aqui é declarado um terceiro tipo básico do tensorflow denominado placeholder, uma variável a qual\n",
        "#atribuiremos posteriormente algum conteúdo, nesse caso está apenas indicado que será do tipo float32 \n",
        "#e terá 5 colunas e qualquer número de linhas\n",
        "x = tf.placeholder(tf.float32, [None, 5])\n",
        "print_tf(x)"
      ],
      "execution_count": 14,
      "outputs": [
        {
          "output_type": "stream",
          "text": [
            "TIPO: \n",
            " <class 'tensorflow.python.framework.ops.Tensor'>\n",
            "Valor: \n",
            " Tensor(\"Placeholder:0\", shape=(?, 5), dtype=float32)\n"
          ],
          "name": "stdout"
        }
      ]
    },
    {
      "metadata": {
        "id": "uzZ3v5R2ZYsE",
        "colab_type": "code",
        "colab": {
          "base_uri": "https://localhost:8080/",
          "height": 90
        },
        "outputId": "1ba310b1-d978-4e9b-9df2-d458459618d5"
      },
      "cell_type": "code",
      "source": [
        "#declara-se uma multiplicação matricial entre o placeholder x e a variable weight\n",
        "oper = tf.matmul(x, weight)\n",
        "print_tf(oper)"
      ],
      "execution_count": 15,
      "outputs": [
        {
          "output_type": "stream",
          "text": [
            "TIPO: \n",
            " <class 'tensorflow.python.framework.ops.Tensor'>\n",
            "Valor: \n",
            " Tensor(\"MatMul:0\", shape=(?, 2), dtype=float32)\n"
          ],
          "name": "stdout"
        }
      ]
    },
    {
      "metadata": {
        "id": "JEhE8mj1Zaaj",
        "colab_type": "code",
        "colab": {
          "base_uri": "https://localhost:8080/",
          "height": 108
        },
        "outputId": "bc0591ed-4dc0-485f-ee61-a60074d0e27f"
      },
      "cell_type": "code",
      "source": [
        "#cria-se uma matriz aleatória de 1 linha e 5 colunas, alimenta-se x com a matriz data utilizando\n",
        "#utilizando a função feed_dict e opera-se a multiplicação matricial definida em oper\n",
        "data = np.random.rand(1, 5)\n",
        "print(data)    #mostra a matriz data gerada (adicionado por mim)\n",
        "oper_out = sess.run(oper, feed_dict={x: data})\n",
        "print_tf(oper_out)"
      ],
      "execution_count": 16,
      "outputs": [
        {
          "output_type": "stream",
          "text": [
            "[[0.26166865 0.51379257 0.73782967 0.3958285  0.37717234]]\n",
            "TIPO: \n",
            " <class 'numpy.ndarray'>\n",
            "Valor: \n",
            " [[ 0.08140074 -0.06357468]]\n"
          ],
          "name": "stdout"
        }
      ]
    },
    {
      "metadata": {
        "id": "kQNyYAlJZdRF",
        "colab_type": "code",
        "colab": {
          "base_uri": "https://localhost:8080/",
          "height": 145
        },
        "outputId": "e84cb240-5d99-48b1-c3a8-8aab1f6aa123"
      },
      "cell_type": "code",
      "source": [
        "#gera-se uma matriz de tamanho 2 por 5 que alimentará x e compila-se a sessão oper\n",
        "data = np.random.rand(2, 5)\n",
        "print(data)    #mostra a matriz data gerada (adicionado por mim)\n",
        "oper_out = sess.run(oper, feed_dict={x: data})\n",
        "print_tf(oper_out)"
      ],
      "execution_count": 17,
      "outputs": [
        {
          "output_type": "stream",
          "text": [
            "[[0.51132815 0.91805416 0.55328114 0.32284239 0.85699104]\n",
            " [0.38420636 0.71546419 0.84368989 0.1298254  0.41581093]]\n",
            "TIPO: \n",
            " <class 'numpy.ndarray'>\n",
            "Valor: \n",
            " [[ 0.15346381 -0.04533331]\n",
            " [ 0.09133045 -0.02342187]]\n"
          ],
          "name": "stdout"
        }
      ]
    }
  ]
}