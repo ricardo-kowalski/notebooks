{
  "nbformat": 4,
  "nbformat_minor": 0,
  "metadata": {
    "colab": {
      "name": "LISTA3_MLP_KERAS.ipynb",
      "version": "0.3.2",
      "provenance": [],
      "collapsed_sections": [],
      "include_colab_link": true
    },
    "kernelspec": {
      "name": "python3",
      "display_name": "Python 3"
    }
  },
  "cells": [
    {
      "cell_type": "markdown",
      "metadata": {
        "id": "view-in-github",
        "colab_type": "text"
      },
      "source": [
        "<a href=\"https://colab.research.google.com/github/ricardo-kowalski/notebooks/blob/master/LISTA3_MLP_KERAS.ipynb\" target=\"_parent\"><img src=\"https://colab.research.google.com/assets/colab-badge.svg\" alt=\"Open In Colab\"/></a>"
      ]
    },
    {
      "cell_type": "markdown",
      "metadata": {
        "id": "a1PS6ahYTs6r",
        "colab_type": "text"
      },
      "source": [
        "#Multilayer Perceptron  com Keras#\n",
        "##LISTA DE EXERCÍCIOS 3##\n",
        "\n",
        "Utilize o dataset abaixo:\n",
        "https://archive.ics.uci.edu/ml/datasets/Breast+Cancer+Wisconsin+(Diagnostic)\n",
        "1. Implemente uma MLP no framework Keras para o dataset seguindo o tutorial abaixo e apresente a\n",
        "curva de custo de 5 treinamentos. Não se esqueça de dividir o dataset em conjunto de treinamento e\n",
        "validação (70% e 30%, respectivamente).\n",
        "https://machinelearningmastery.com/build-multi-layer-perceptron-neural-network-models-keras/\n",
        "2. Varie o parâmetro de batchsize (pelo menos 5) e apresente a acurácia, tempo de processamento e\n",
        "uso de memória para cada configuração.\n",
        "3. Varie o parâmetro de taxa de aprendizado (pelo menos 5) e apresente a acurácia, tempo de\n",
        "processamento e uso de memória para cada configuração."
      ]
    },
    {
      "cell_type": "markdown",
      "metadata": {
        "id": "8ANkC5J1UzD0",
        "colab_type": "text"
      },
      "source": [
        "\n",
        "\n",
        "---\n",
        "\n",
        "###Parte 1 - Features engineering###"
      ]
    },
    {
      "cell_type": "markdown",
      "metadata": {
        "id": "qq_IlGimdcpj",
        "colab_type": "text"
      },
      "source": [
        "Importando as bibliotecas"
      ]
    },
    {
      "cell_type": "code",
      "metadata": {
        "id": "DmaVAOi4dP3o",
        "colab_type": "code",
        "colab": {
          "base_uri": "https://localhost:8080/",
          "height": 35
        },
        "outputId": "f5cc498e-d072-4c40-f81a-dd977e5c3b31"
      },
      "source": [
        "# Visualize training history\n",
        "from keras.models import Sequential, Model\n",
        "from keras.layers import Dense, Input, Activation\n",
        "import matplotlib.pyplot as plt\n",
        "import numpy as np\n",
        "import pandas as pd"
      ],
      "execution_count": 3,
      "outputs": [
        {
          "output_type": "stream",
          "text": [
            "Using TensorFlow backend.\n"
          ],
          "name": "stderr"
        }
      ]
    },
    {
      "cell_type": "markdown",
      "metadata": {
        "id": "5jYK9GIudj9h",
        "colab_type": "text"
      },
      "source": [
        "Escolhendo uma semente para futuras replicações do modelo"
      ]
    },
    {
      "cell_type": "code",
      "metadata": {
        "id": "dm4ufdEtd1Xp",
        "colab_type": "code",
        "colab": {}
      },
      "source": [
        "seed = 7\n",
        "np.random.seed(seed)"
      ],
      "execution_count": 0,
      "outputs": []
    },
    {
      "cell_type": "markdown",
      "metadata": {
        "id": "rN7w09vie1zp",
        "colab_type": "text"
      },
      "source": [
        "Carregando o dataset"
      ]
    },
    {
      "cell_type": "code",
      "metadata": {
        "id": "EVyENlEcd3hZ",
        "colab_type": "code",
        "colab": {}
      },
      "source": [
        "'''\n",
        "dataset = np.genfromtxt('https://archive.ics.uci.edu/ml/machine-learning-databases/breast-cancer-wisconsin/breast-cancer-wisconsin.data', delimiter=',',dtype=int)\n",
        "'''\n",
        "\n",
        "dataset = pd.read_csv('https://archive.ics.uci.edu/ml/machine-learning-databases/breast-cancer-wisconsin/breast-cancer-wisconsin.data', sep = ',')\n",
        " "
      ],
      "execution_count": 0,
      "outputs": []
    },
    {
      "cell_type": "markdown",
      "metadata": {
        "id": "A8IgPi01e7du",
        "colab_type": "text"
      },
      "source": [
        "Nomeando as colunas"
      ]
    },
    {
      "cell_type": "code",
      "metadata": {
        "id": "KIHXbn3SkHWg",
        "colab_type": "code",
        "colab": {}
      },
      "source": [
        "dataset.columns = ['id','clump_thickness','unif_cell_size','unif_cell_shape','marg_adhesion','single_epith_size','bare_nuclei','bland_chrom','norm_nucleoli','mitoses','class']"
      ],
      "execution_count": 0,
      "outputs": []
    },
    {
      "cell_type": "markdown",
      "metadata": {
        "id": "RcHacVmOfCvZ",
        "colab_type": "text"
      },
      "source": [
        "Removendo a coluna categórica 'id'"
      ]
    },
    {
      "cell_type": "code",
      "metadata": {
        "id": "yFlzspMnkbEF",
        "colab_type": "code",
        "colab": {}
      },
      "source": [
        "dataset.drop(['id'], inplace=True, axis=1)"
      ],
      "execution_count": 0,
      "outputs": []
    },
    {
      "cell_type": "markdown",
      "metadata": {
        "id": "3wtp1spyfH6f",
        "colab_type": "text"
      },
      "source": [
        "Substituindo os valores '?' "
      ]
    },
    {
      "cell_type": "code",
      "metadata": {
        "id": "mgAVz0O4vLDL",
        "colab_type": "code",
        "colab": {}
      },
      "source": [
        "dataset.replace('?', 5, inplace=True)   # valor escolhido: 5, talvez a média ou mediana fosse melhor opção)"
      ],
      "execution_count": 0,
      "outputs": []
    },
    {
      "cell_type": "markdown",
      "metadata": {
        "id": "43KavHYmfV1G",
        "colab_type": "text"
      },
      "source": [
        "Atribuindo os valores '0' e '1' às classes"
      ]
    },
    {
      "cell_type": "code",
      "metadata": {
        "id": "Xc_vw4MalAl_",
        "colab_type": "code",
        "colab": {}
      },
      "source": [
        "dataset['class'] = dataset['class'].map(lambda x: 1 if x == 4 else 0)"
      ],
      "execution_count": 0,
      "outputs": []
    },
    {
      "cell_type": "markdown",
      "metadata": {
        "id": "jjP791aDff9d",
        "colab_type": "text"
      },
      "source": [
        "Exibição do dataset"
      ]
    },
    {
      "cell_type": "code",
      "metadata": {
        "id": "k33F5aTJhf4a",
        "colab_type": "code",
        "outputId": "9f766318-5e0b-4dbe-c213-703c85c0f2c6",
        "colab": {
          "base_uri": "https://localhost:8080/",
          "height": 35
        }
      },
      "source": [
        "dataset.shape"
      ],
      "execution_count": 10,
      "outputs": [
        {
          "output_type": "execute_result",
          "data": {
            "text/plain": [
              "(698, 10)"
            ]
          },
          "metadata": {
            "tags": []
          },
          "execution_count": 10
        }
      ]
    },
    {
      "cell_type": "code",
      "metadata": {
        "id": "TtJEYJKJfz5t",
        "colab_type": "code",
        "outputId": "d82eda4e-2503-4efb-c243-a36ded11cb81",
        "colab": {
          "base_uri": "https://localhost:8080/",
          "height": 198
        }
      },
      "source": [
        "dataset.head()"
      ],
      "execution_count": 11,
      "outputs": [
        {
          "output_type": "execute_result",
          "data": {
            "text/html": [
              "<div>\n",
              "<style scoped>\n",
              "    .dataframe tbody tr th:only-of-type {\n",
              "        vertical-align: middle;\n",
              "    }\n",
              "\n",
              "    .dataframe tbody tr th {\n",
              "        vertical-align: top;\n",
              "    }\n",
              "\n",
              "    .dataframe thead th {\n",
              "        text-align: right;\n",
              "    }\n",
              "</style>\n",
              "<table border=\"1\" class=\"dataframe\">\n",
              "  <thead>\n",
              "    <tr style=\"text-align: right;\">\n",
              "      <th></th>\n",
              "      <th>clump_thickness</th>\n",
              "      <th>unif_cell_size</th>\n",
              "      <th>unif_cell_shape</th>\n",
              "      <th>marg_adhesion</th>\n",
              "      <th>single_epith_size</th>\n",
              "      <th>bare_nuclei</th>\n",
              "      <th>bland_chrom</th>\n",
              "      <th>norm_nucleoli</th>\n",
              "      <th>mitoses</th>\n",
              "      <th>class</th>\n",
              "    </tr>\n",
              "  </thead>\n",
              "  <tbody>\n",
              "    <tr>\n",
              "      <th>0</th>\n",
              "      <td>5</td>\n",
              "      <td>4</td>\n",
              "      <td>4</td>\n",
              "      <td>5</td>\n",
              "      <td>7</td>\n",
              "      <td>10</td>\n",
              "      <td>3</td>\n",
              "      <td>2</td>\n",
              "      <td>1</td>\n",
              "      <td>0</td>\n",
              "    </tr>\n",
              "    <tr>\n",
              "      <th>1</th>\n",
              "      <td>3</td>\n",
              "      <td>1</td>\n",
              "      <td>1</td>\n",
              "      <td>1</td>\n",
              "      <td>2</td>\n",
              "      <td>2</td>\n",
              "      <td>3</td>\n",
              "      <td>1</td>\n",
              "      <td>1</td>\n",
              "      <td>0</td>\n",
              "    </tr>\n",
              "    <tr>\n",
              "      <th>2</th>\n",
              "      <td>6</td>\n",
              "      <td>8</td>\n",
              "      <td>8</td>\n",
              "      <td>1</td>\n",
              "      <td>3</td>\n",
              "      <td>4</td>\n",
              "      <td>3</td>\n",
              "      <td>7</td>\n",
              "      <td>1</td>\n",
              "      <td>0</td>\n",
              "    </tr>\n",
              "    <tr>\n",
              "      <th>3</th>\n",
              "      <td>4</td>\n",
              "      <td>1</td>\n",
              "      <td>1</td>\n",
              "      <td>3</td>\n",
              "      <td>2</td>\n",
              "      <td>1</td>\n",
              "      <td>3</td>\n",
              "      <td>1</td>\n",
              "      <td>1</td>\n",
              "      <td>0</td>\n",
              "    </tr>\n",
              "    <tr>\n",
              "      <th>4</th>\n",
              "      <td>8</td>\n",
              "      <td>10</td>\n",
              "      <td>10</td>\n",
              "      <td>8</td>\n",
              "      <td>7</td>\n",
              "      <td>10</td>\n",
              "      <td>9</td>\n",
              "      <td>7</td>\n",
              "      <td>1</td>\n",
              "      <td>1</td>\n",
              "    </tr>\n",
              "  </tbody>\n",
              "</table>\n",
              "</div>"
            ],
            "text/plain": [
              "   clump_thickness  unif_cell_size  ...  mitoses  class\n",
              "0                5               4  ...        1      0\n",
              "1                3               1  ...        1      0\n",
              "2                6               8  ...        1      0\n",
              "3                4               1  ...        1      0\n",
              "4                8              10  ...        1      1\n",
              "\n",
              "[5 rows x 10 columns]"
            ]
          },
          "metadata": {
            "tags": []
          },
          "execution_count": 11
        }
      ]
    },
    {
      "cell_type": "markdown",
      "metadata": {
        "id": "bQNHoj36VF17",
        "colab_type": "text"
      },
      "source": [
        "\n",
        "\n",
        "---\n",
        "\n",
        "###Parte 2 - Análise dos dados###"
      ]
    },
    {
      "cell_type": "markdown",
      "metadata": {
        "id": "aliyZ56_-vx-",
        "colab_type": "text"
      },
      "source": [
        "Verificando a distribuição das features"
      ]
    },
    {
      "cell_type": "code",
      "metadata": {
        "id": "I9PyniIKyV8j",
        "colab_type": "code",
        "outputId": "1d90360d-9f6a-4c35-8f44-a3382f1743a6",
        "colab": {
          "base_uri": "https://localhost:8080/",
          "height": 463
        }
      },
      "source": [
        "dataset.hist()"
      ],
      "execution_count": 12,
      "outputs": [
        {
          "output_type": "execute_result",
          "data": {
            "text/plain": [
              "array([[<matplotlib.axes._subplots.AxesSubplot object at 0x7f2c9b3e40f0>,\n",
              "        <matplotlib.axes._subplots.AxesSubplot object at 0x7f2c9b3bf320>,\n",
              "        <matplotlib.axes._subplots.AxesSubplot object at 0x7f2c9b366860>],\n",
              "       [<matplotlib.axes._subplots.AxesSubplot object at 0x7f2c9b38edd8>,\n",
              "        <matplotlib.axes._subplots.AxesSubplot object at 0x7f2c9b33d390>,\n",
              "        <matplotlib.axes._subplots.AxesSubplot object at 0x7f2c9b2e7908>],\n",
              "       [<matplotlib.axes._subplots.AxesSubplot object at 0x7f2c9b30ee80>,\n",
              "        <matplotlib.axes._subplots.AxesSubplot object at 0x7f2c9b2be470>,\n",
              "        <matplotlib.axes._subplots.AxesSubplot object at 0x7f2c9b2be4a8>]],\n",
              "      dtype=object)"
            ]
          },
          "metadata": {
            "tags": []
          },
          "execution_count": 12
        },
        {
          "output_type": "display_data",
          "data": {
            "image/png": "[encoded data removed]",
            "text/plain": [
              "<Figure size 432x288 with 9 Axes>"
            ]
          },
          "metadata": {
            "tags": []
          }
        }
      ]
    },
    {
      "cell_type": "code",
      "metadata": {
        "id": "aAY1HPhP-zia",
        "colab_type": "code",
        "outputId": "681cb88c-8e2f-4db5-fbe9-e03036eafb92",
        "colab": {
          "base_uri": "https://localhost:8080/",
          "height": 288
        }
      },
      "source": [
        "dataset.describe() "
      ],
      "execution_count": 13,
      "outputs": [
        {
          "output_type": "execute_result",
          "data": {
            "text/html": [
              "<div>\n",
              "<style scoped>\n",
              "    .dataframe tbody tr th:only-of-type {\n",
              "        vertical-align: middle;\n",
              "    }\n",
              "\n",
              "    .dataframe tbody tr th {\n",
              "        vertical-align: top;\n",
              "    }\n",
              "\n",
              "    .dataframe thead th {\n",
              "        text-align: right;\n",
              "    }\n",
              "</style>\n",
              "<table border=\"1\" class=\"dataframe\">\n",
              "  <thead>\n",
              "    <tr style=\"text-align: right;\">\n",
              "      <th></th>\n",
              "      <th>clump_thickness</th>\n",
              "      <th>unif_cell_size</th>\n",
              "      <th>unif_cell_shape</th>\n",
              "      <th>marg_adhesion</th>\n",
              "      <th>single_epith_size</th>\n",
              "      <th>bland_chrom</th>\n",
              "      <th>norm_nucleoli</th>\n",
              "      <th>mitoses</th>\n",
              "      <th>class</th>\n",
              "    </tr>\n",
              "  </thead>\n",
              "  <tbody>\n",
              "    <tr>\n",
              "      <th>count</th>\n",
              "      <td>698.000000</td>\n",
              "      <td>698.000000</td>\n",
              "      <td>698.000000</td>\n",
              "      <td>698.000000</td>\n",
              "      <td>698.000000</td>\n",
              "      <td>698.000000</td>\n",
              "      <td>698.000000</td>\n",
              "      <td>698.000000</td>\n",
              "      <td>698.000000</td>\n",
              "    </tr>\n",
              "    <tr>\n",
              "      <th>mean</th>\n",
              "      <td>4.416905</td>\n",
              "      <td>3.137536</td>\n",
              "      <td>3.210602</td>\n",
              "      <td>2.809456</td>\n",
              "      <td>3.217765</td>\n",
              "      <td>3.438395</td>\n",
              "      <td>2.869628</td>\n",
              "      <td>1.590258</td>\n",
              "      <td>0.345272</td>\n",
              "    </tr>\n",
              "    <tr>\n",
              "      <th>std</th>\n",
              "      <td>2.817673</td>\n",
              "      <td>3.052575</td>\n",
              "      <td>2.972867</td>\n",
              "      <td>2.856606</td>\n",
              "      <td>2.215408</td>\n",
              "      <td>2.440056</td>\n",
              "      <td>3.055004</td>\n",
              "      <td>1.716162</td>\n",
              "      <td>0.475798</td>\n",
              "    </tr>\n",
              "    <tr>\n",
              "      <th>min</th>\n",
              "      <td>1.000000</td>\n",
              "      <td>1.000000</td>\n",
              "      <td>1.000000</td>\n",
              "      <td>1.000000</td>\n",
              "      <td>1.000000</td>\n",
              "      <td>1.000000</td>\n",
              "      <td>1.000000</td>\n",
              "      <td>1.000000</td>\n",
              "      <td>0.000000</td>\n",
              "    </tr>\n",
              "    <tr>\n",
              "      <th>25%</th>\n",
              "      <td>2.000000</td>\n",
              "      <td>1.000000</td>\n",
              "      <td>1.000000</td>\n",
              "      <td>1.000000</td>\n",
              "      <td>2.000000</td>\n",
              "      <td>2.000000</td>\n",
              "      <td>1.000000</td>\n",
              "      <td>1.000000</td>\n",
              "      <td>0.000000</td>\n",
              "    </tr>\n",
              "    <tr>\n",
              "      <th>50%</th>\n",
              "      <td>4.000000</td>\n",
              "      <td>1.000000</td>\n",
              "      <td>1.000000</td>\n",
              "      <td>1.000000</td>\n",
              "      <td>2.000000</td>\n",
              "      <td>3.000000</td>\n",
              "      <td>1.000000</td>\n",
              "      <td>1.000000</td>\n",
              "      <td>0.000000</td>\n",
              "    </tr>\n",
              "    <tr>\n",
              "      <th>75%</th>\n",
              "      <td>6.000000</td>\n",
              "      <td>5.000000</td>\n",
              "      <td>5.000000</td>\n",
              "      <td>4.000000</td>\n",
              "      <td>4.000000</td>\n",
              "      <td>5.000000</td>\n",
              "      <td>4.000000</td>\n",
              "      <td>1.000000</td>\n",
              "      <td>1.000000</td>\n",
              "    </tr>\n",
              "    <tr>\n",
              "      <th>max</th>\n",
              "      <td>10.000000</td>\n",
              "      <td>10.000000</td>\n",
              "      <td>10.000000</td>\n",
              "      <td>10.000000</td>\n",
              "      <td>10.000000</td>\n",
              "      <td>10.000000</td>\n",
              "      <td>10.000000</td>\n",
              "      <td>10.000000</td>\n",
              "      <td>1.000000</td>\n",
              "    </tr>\n",
              "  </tbody>\n",
              "</table>\n",
              "</div>"
            ],
            "text/plain": [
              "       clump_thickness  unif_cell_size  ...     mitoses       class\n",
              "count       698.000000      698.000000  ...  698.000000  698.000000\n",
              "mean          4.416905        3.137536  ...    1.590258    0.345272\n",
              "std           2.817673        3.052575  ...    1.716162    0.475798\n",
              "min           1.000000        1.000000  ...    1.000000    0.000000\n",
              "25%           2.000000        1.000000  ...    1.000000    0.000000\n",
              "50%           4.000000        1.000000  ...    1.000000    0.000000\n",
              "75%           6.000000        5.000000  ...    1.000000    1.000000\n",
              "max          10.000000       10.000000  ...   10.000000    1.000000\n",
              "\n",
              "[8 rows x 9 columns]"
            ]
          },
          "metadata": {
            "tags": []
          },
          "execution_count": 13
        }
      ]
    },
    {
      "cell_type": "markdown",
      "metadata": {
        "id": "Tf3UUjTYfjGm",
        "colab_type": "text"
      },
      "source": [
        "Matriz de correlação"
      ]
    },
    {
      "cell_type": "code",
      "metadata": {
        "id": "k7B97FaogKvs",
        "colab_type": "code",
        "outputId": "bf44fc8d-741e-4b06-f221-f46d76fba409",
        "colab": {
          "base_uri": "https://localhost:8080/",
          "height": 345
        }
      },
      "source": [
        "import seaborn as sns\n",
        "\n",
        "corr = dataset.corr()\n",
        "sns.heatmap(corr, \n",
        "            xticklabels=corr.columns.values,\n",
        "            yticklabels=corr.columns.values)\n",
        "plt.show()"
      ],
      "execution_count": 14,
      "outputs": [
        {
          "output_type": "display_data",
          "data": {
            "image/png": "[encoded data removed]",
            "text/plain": [
              "<Figure size 432x288 with 2 Axes>"
            ]
          },
          "metadata": {
            "tags": []
          }
        }
      ]
    },
    {
      "cell_type": "markdown",
      "metadata": {
        "id": "Xkf41pi6gohl",
        "colab_type": "text"
      },
      "source": [
        "\n",
        "\n",
        "---\n",
        "\n",
        "###Parte 3 - Preparando o dataset ###"
      ]
    },
    {
      "cell_type": "markdown",
      "metadata": {
        "id": "1YsQScqZfszN",
        "colab_type": "text"
      },
      "source": [
        "Separando as features das classes"
      ]
    },
    {
      "cell_type": "code",
      "metadata": {
        "id": "GHn7Nnukd9Kg",
        "colab_type": "code",
        "colab": {}
      },
      "source": [
        "X = dataset.iloc[:, 0:9]\n",
        "Y = dataset.iloc[:,-1]"
      ],
      "execution_count": 0,
      "outputs": []
    },
    {
      "cell_type": "markdown",
      "metadata": {
        "id": "OfWNYcpwx9VF",
        "colab_type": "text"
      },
      "source": [
        "\n",
        "\n",
        "---\n",
        "\n",
        "Normalizando os dados de treinamento"
      ]
    },
    {
      "cell_type": "markdown",
      "metadata": {
        "id": "jYJEeElz5BNf",
        "colab_type": "text"
      },
      "source": [
        "Método escolhido Min-Max Scaler:\n",
        "\n",
        ">$ \\frac{x_i - min(x)} {max(x) - min(x)} $\n"
      ]
    },
    {
      "cell_type": "code",
      "metadata": {
        "id": "n5xWWSImxZ1A",
        "colab_type": "code",
        "outputId": "49a8b0da-6ec0-4562-edab-24d2a7bcc4f8",
        "colab": {
          "base_uri": "https://localhost:8080/",
          "height": 35
        }
      },
      "source": [
        "from sklearn import preprocessing\n",
        "\n",
        "scaler = preprocessing.MinMaxScaler()    # método escolhido MinMaxScaler (o RobustScaler se mostrou menos eficaz)\n",
        "'''\n",
        "scaler = preprocessing.RobustScaler()\n",
        "'''"
      ],
      "execution_count": 16,
      "outputs": [
        {
          "output_type": "execute_result",
          "data": {
            "text/plain": [
              "'\\nscaler = preprocessing.RobustScaler()\\n'"
            ]
          },
          "metadata": {
            "tags": []
          },
          "execution_count": 16
        }
      ]
    },
    {
      "cell_type": "code",
      "metadata": {
        "id": "GvQ9OdvGxgyd",
        "colab_type": "code",
        "colab": {}
      },
      "source": [
        "X = scaler.fit_transform(X)"
      ],
      "execution_count": 0,
      "outputs": []
    },
    {
      "cell_type": "markdown",
      "metadata": {
        "id": "KAOjXgDWgj5I",
        "colab_type": "text"
      },
      "source": [
        "Dividindo os datasets anteriores em 70% para treinamento e 30% para validação"
      ]
    },
    {
      "cell_type": "code",
      "metadata": {
        "id": "kY-ovsoD1nkA",
        "colab_type": "code",
        "colab": {}
      },
      "source": [
        "from sklearn.model_selection import train_test_split\n",
        "\n",
        "test_size = 0.3\n",
        "\n",
        "X_train, X_test, y_train, y_test =  train_test_split(X, Y, test_size = test_size, random_state = seed)\n"
      ],
      "execution_count": 0,
      "outputs": []
    },
    {
      "cell_type": "markdown",
      "metadata": {
        "id": "lleO0AVeyBLj",
        "colab_type": "text"
      },
      "source": [
        "\n",
        "\n",
        "---\n",
        "\n",
        "###Parte 4 - Criando o modelo###"
      ]
    },
    {
      "cell_type": "code",
      "metadata": {
        "id": "4yemh4Nwd_ro",
        "colab_type": "code",
        "outputId": "49aa443b-d318-4178-efa2-c23bcc79631b",
        "colab": {
          "base_uri": "https://localhost:8080/",
          "height": 110
        }
      },
      "source": [
        "model = Sequential()\n",
        "\n",
        "model.add(Dense(9, input_dim=9, kernel_initializer='random_uniform', activation='relu'))\n",
        "model.add(Dense(9, kernel_initializer='random_uniform', activation='relu'))\n",
        "model.add(Dense(1, kernel_initializer='random_uniform', activation='sigmoid'))\n",
        "\n",
        "'''\n",
        "# Multi-layer neural networks\n",
        "inputs = Input(shape=(9,))\n",
        "hidden1 = Dense(9, activation='relu')(inputs)\n",
        "hidden2 = Dense(9, activation='relu')(hidden1)\n",
        "output = Dense(1, activation='sigmoid')(hidden2)\n",
        "model = Model(inputs=inputs, outputs=output)\n",
        "\n",
        "'''"
      ],
      "execution_count": 19,
      "outputs": [
        {
          "output_type": "stream",
          "text": [
            "WARNING:tensorflow:From /usr/local/lib/python3.6/dist-packages/tensorflow/python/framework/op_def_library.py:263: colocate_with (from tensorflow.python.framework.ops) is deprecated and will be removed in a future version.\n",
            "Instructions for updating:\n",
            "Colocations handled automatically by placer.\n"
          ],
          "name": "stdout"
        },
        {
          "output_type": "execute_result",
          "data": {
            "text/plain": [
              "\"\\n# Multi-layer neural networks\\ninputs = Input(shape=(9,))\\nhidden1 = Dense(9, activation='relu')(inputs)\\nhidden2 = Dense(9, activation='relu')(hidden1)\\noutput = Dense(1, activation='sigmoid')(hidden2)\\nmodel = Model(inputs=inputs, outputs=output)\\n\\n\""
            ]
          },
          "metadata": {
            "tags": []
          },
          "execution_count": 19
        }
      ]
    },
    {
      "cell_type": "code",
      "metadata": {
        "id": "zinwpXZ-7_TU",
        "colab_type": "code",
        "outputId": "ccdd7b40-ed45-4b09-b068-3a8dd22688a1",
        "colab": {
          "base_uri": "https://localhost:8080/",
          "height": 664
        }
      },
      "source": [
        "'''visualizando o modelo'''\n",
        "from keras.utils import plot_model\n",
        "\n",
        "# Model summary\n",
        "print(model.summary())\n",
        "\n",
        "# Salva o modelo\n",
        "plot_model(model, show_shapes=True, show_layer_names=True, to_file='model.png')\n",
        "\n",
        "#Plota o modelo\n",
        "from IPython.display import Image\n",
        "\n",
        "Image(filename='model.png')\n"
      ],
      "execution_count": 20,
      "outputs": [
        {
          "output_type": "stream",
          "text": [
            "_________________________________________________________________\n",
            "Layer (type)                 Output Shape              Param #   \n",
            "=================================================================\n",
            "dense_1 (Dense)              (None, 9)                 90        \n",
            "_________________________________________________________________\n",
            "dense_2 (Dense)              (None, 9)                 90        \n",
            "_________________________________________________________________\n",
            "dense_3 (Dense)              (None, 1)                 10        \n",
            "=================================================================\n",
            "Total params: 190\n",
            "Trainable params: 190\n",
            "Non-trainable params: 0\n",
            "_________________________________________________________________\n",
            "None\n"
          ],
          "name": "stdout"
        },
        {
          "output_type": "execute_result",
          "data": {
            "image/png": "[encoded data removed]",
            "text/plain": [
              "<IPython.core.display.Image object>"
            ]
          },
          "metadata": {
            "tags": []
          },
          "execution_count": 20
        }
      ]
    },
    {
      "cell_type": "markdown",
      "metadata": {
        "id": "7fKHPAYbBtNI",
        "colab_type": "text"
      },
      "source": [
        "ANN Visualizer (desenha a arquitetura da rede neural utilizando grafos)"
      ]
    },
    {
      "cell_type": "code",
      "metadata": {
        "id": "yC6jH_m8-51V",
        "colab_type": "code",
        "outputId": "771e5259-acc3-4037-d1b7-7b654cb716bf",
        "colab": {
          "base_uri": "https://localhost:8080/",
          "height": 163
        }
      },
      "source": [
        "!pip3 install ann_visualizer"
      ],
      "execution_count": 21,
      "outputs": [
        {
          "output_type": "stream",
          "text": [
            "Collecting ann_visualizer\n",
            "  Downloading https://files.pythonhosted.org/packages/db/51/157be500337fba347e32711aaf9f11c1ba9e1162f486a1d708b4ae594ea4/ann_visualizer-2.5.tar.gz\n",
            "Building wheels for collected packages: ann-visualizer\n",
            "  Building wheel for ann-visualizer (setup.py) ... \u001b[?25l\u001b[?25hdone\n",
            "  Stored in directory: /root/.cache/pip/wheels/b6/b4/4e/d92f50c9c4f004cf315a0e0fcd455486bd799c50fe80cf1f5d\n",
            "Successfully built ann-visualizer\n",
            "Installing collected packages: ann-visualizer\n",
            "Successfully installed ann-visualizer-2.5\n"
          ],
          "name": "stdout"
        }
      ]
    },
    {
      "cell_type": "code",
      "metadata": {
        "id": "UuFON4auAU_m",
        "colab_type": "code",
        "colab": {}
      },
      "source": [
        "#Gerando e salvando a visualização do grafo\n",
        "\n",
        "from ann_visualizer.visualize import ann_viz\n",
        "\n",
        "ann_viz(model, title=\"Grafo 1\",filename = \"rede1\", view=True)   #não plota automaticamente no notebook"
      ],
      "execution_count": 0,
      "outputs": []
    },
    {
      "cell_type": "code",
      "metadata": {
        "id": "S0_nT2mPAuyr",
        "colab_type": "code",
        "outputId": "433c6e85-f6bd-45f4-d5df-d3cbf9d85479",
        "colab": {
          "base_uri": "https://localhost:8080/",
          "height": 1010
        }
      },
      "source": [
        "#Plota o modelo\n",
        "\n",
        "import graphviz\n",
        "\n",
        "with open(\"rede1\") as f:\n",
        "    dot_graph = f.read()\n",
        "\n",
        "graphviz.Source(dot_graph)\n"
      ],
      "execution_count": 23,
      "outputs": [
        {
          "output_type": "execute_result",
          "data": {
            "text/plain": [
              "<graphviz.files.Source at 0x7f2c90ec1908>"
            ],
            "image/svg+xml": "<?xml version=\"1.0\" encoding=\"UTF-8\" standalone=\"no\"?>\n<!DOCTYPE svg PUBLIC \"-//W3C//DTD SVG 1.1//EN\"\n \"http://www.w3.org/Graphics/SVG/1.1/DTD/svg11.dtd\">\n<!-- Generated by graphviz version 2.40.1 (20161225.0304)\n -->\n<!-- Title: g Pages: 1 -->\n<svg width=\"994pt\" height=\"742pt\"\n viewBox=\"0.00 0.00 994.00 741.79\" xmlns=\"http://www.w3.org/2000/svg\" xmlns:xlink=\"http://www.w3.org/1999/xlink\">\n<g id=\"graph0\" class=\"graph\" transform=\"scale(1 1) rotate(0) translate(4 737.7889)\">\n<title>g</title>\n<polygon fill=\"#ffffff\" stroke=\"transparent\" points=\"-4,4 -4,-737.7889 990,-737.7889 990,4 -4,4\"/>\n<g id=\"clust1\" class=\"cluster\">\n<title>cluster_input</title>\n<polygon fill=\"none\" stroke=\"#ffffff\" points=\"35,-587.7889 35,-725.7889 951,-725.7889 951,-587.7889 35,-587.7889\"/>\n<text text-anchor=\"middle\" x=\"493\" y=\"-710.5889\" font-family=\"Times,serif\" font-size=\"14.00\" fill=\"#000000\">Grafo 1</text>\n<text text-anchor=\"middle\" x=\"493\" y=\"-647.5889\" font-family=\"Times,serif\" font-size=\"14.00\" fill=\"#000000\">Input Layer</text>\n</g>\n<g id=\"clust2\" class=\"cluster\">\n<title>cluster_1</title>\n<polygon fill=\"none\" stroke=\"#ffffff\" points=\"8,-402.1926 8,-459.7889 976,-459.7889 976,-402.1926 8,-402.1926\"/>\n</g>\n<g id=\"clust3\" class=\"cluster\">\n<title>cluster_2</title>\n<polygon fill=\"none\" stroke=\"#ffffff\" points=\"8,-216.5963 8,-274.1926 978,-274.1926 978,-216.5963 8,-216.5963\"/>\n</g>\n<g id=\"clust4\" class=\"cluster\">\n<title>cluster_output</title>\n<polygon fill=\"none\" stroke=\"#ffffff\" points=\"446,-8 446,-88.5963 540,-88.5963 540,-8 446,-8\"/>\n<text text-anchor=\"middle\" x=\"493\" y=\"-15.8\" font-family=\"Times,serif\" font-size=\"14.00\" fill=\"#000000\">Output Layer</text>\n</g>\n<!-- 1 -->\n<g id=\"node1\" class=\"node\">\n<title>1</title>\n<ellipse fill=\"#2ecc71\" stroke=\"#2ecc71\" cx=\"493\" cy=\"-613.7889\" rx=\"18\" ry=\"18\"/>\n<text text-anchor=\"middle\" x=\"493\" y=\"-610.0889\" font-family=\"Times,serif\" font-size=\"14.00\" fill=\"#2ecc71\">1</text>\n</g>\n<!-- 10 -->\n<g id=\"node10\" class=\"node\">\n<title>10</title>\n<ellipse fill=\"#3498db\" stroke=\"#3498db\" cx=\"37\" cy=\"-430.9908\" rx=\"20.5982\" ry=\"20.5982\"/>\n<text text-anchor=\"middle\" x=\"37\" y=\"-427.2908\" font-family=\"Times,serif\" font-size=\"14.00\" fill=\"#3498db\">10</text>\n</g>\n<!-- 1&#45;&gt;10 -->\n<g id=\"edge1\" class=\"edge\">\n<title>1&#45;&gt;10</title>\n<path fill=\"none\" stroke=\"#707070\" d=\"M476.2299,-607.0663C405.5305,-578.7247 131.9632,-469.059 56.4206,-438.776\"/>\n</g>\n<!-- 11 -->\n<g id=\"node11\" class=\"node\">\n<title>11</title>\n<ellipse fill=\"#3498db\" stroke=\"#3498db\" cx=\"948\" cy=\"-430.9908\" rx=\"20.2975\" ry=\"20.2975\"/>\n<text text-anchor=\"middle\" x=\"948\" y=\"-427.2908\" font-family=\"Times,serif\" font-size=\"14.00\" fill=\"#3498db\">11</text>\n</g>\n<!-- 1&#45;&gt;11 -->\n<g id=\"edge10\" class=\"edge\">\n<title>1&#45;&gt;11</title>\n<path fill=\"none\" stroke=\"#707070\" d=\"M509.7333,-607.0663C580.4381,-578.6603 854.4868,-468.5601 929.1329,-438.5707\"/>\n</g>\n<!-- 12 -->\n<g id=\"node12\" class=\"node\">\n<title>12</title>\n<ellipse fill=\"#3498db\" stroke=\"#3498db\" cx=\"835\" cy=\"-430.9908\" rx=\"20.5982\" ry=\"20.5982\"/>\n<text text-anchor=\"middle\" x=\"835\" y=\"-427.2908\" font-family=\"Times,serif\" font-size=\"14.00\" fill=\"#3498db\">12</text>\n</g>\n<!-- 1&#45;&gt;12 -->\n<g id=\"edge19\" class=\"edge\">\n<title>1&#45;&gt;12</title>\n<path fill=\"none\" stroke=\"#707070\" d=\"M509.0367,-605.2174C565.6904,-574.9361 756.2509,-473.082 816.5454,-440.8547\"/>\n</g>\n<!-- 13 -->\n<g id=\"node13\" class=\"node\">\n<title>13</title>\n<ellipse fill=\"#3498db\" stroke=\"#3498db\" cx=\"721\" cy=\"-430.9908\" rx=\"20.5982\" ry=\"20.5982\"/>\n<text text-anchor=\"middle\" x=\"721\" y=\"-427.2908\" font-family=\"Times,serif\" font-size=\"14.00\" fill=\"#3498db\">13</text>\n</g>\n<!-- 1&#45;&gt;13 -->\n<g id=\"edge28\" class=\"edge\">\n<title>1&#45;&gt;13</title>\n<path fill=\"none\" stroke=\"#707070\" d=\"M507.2624,-602.3541C547.5257,-570.0732 661.9054,-478.3696 704.6328,-444.1131\"/>\n</g>\n<!-- 14 -->\n<g id=\"node14\" class=\"node\">\n<title>14</title>\n<ellipse fill=\"#3498db\" stroke=\"#3498db\" cx=\"607\" cy=\"-430.9908\" rx=\"20.5982\" ry=\"20.5982\"/>\n<text text-anchor=\"middle\" x=\"607\" y=\"-427.2908\" font-family=\"Times,serif\" font-size=\"14.00\" fill=\"#3498db\">14</text>\n</g>\n<!-- 1&#45;&gt;14 -->\n<g id=\"edge37\" class=\"edge\">\n<title>1&#45;&gt;14</title>\n<path fill=\"none\" stroke=\"#707070\" d=\"M502.7196,-598.2037C523.8266,-564.3587 573.7408,-484.3217 595.9786,-448.6635\"/>\n</g>\n<!-- 15 -->\n<g id=\"node15\" class=\"node\">\n<title>15</title>\n<ellipse fill=\"#3498db\" stroke=\"#3498db\" cx=\"493\" cy=\"-430.9908\" rx=\"20.5982\" ry=\"20.5982\"/>\n<text text-anchor=\"middle\" x=\"493\" y=\"-427.2908\" font-family=\"Times,serif\" font-size=\"14.00\" fill=\"#3498db\">15</text>\n</g>\n<!-- 1&#45;&gt;15 -->\n<g id=\"edge46\" class=\"edge\">\n<title>1&#45;&gt;15</title>\n<path fill=\"none\" stroke=\"#707070\" d=\"M493,-595.5932C493,-561.4576 493,-488.0073 493,-451.8988\"/>\n</g>\n<!-- 16 -->\n<g id=\"node16\" class=\"node\">\n<title>16</title>\n<ellipse fill=\"#3498db\" stroke=\"#3498db\" cx=\"379\" cy=\"-430.9908\" rx=\"20.5982\" ry=\"20.5982\"/>\n<text text-anchor=\"middle\" x=\"379\" y=\"-427.2908\" font-family=\"Times,serif\" font-size=\"14.00\" fill=\"#3498db\">16</text>\n</g>\n<!-- 1&#45;&gt;16 -->\n<g id=\"edge55\" class=\"edge\">\n<title>1&#45;&gt;16</title>\n<path fill=\"none\" stroke=\"#707070\" d=\"M483.2804,-598.2037C462.1734,-564.3587 412.2592,-484.3217 390.0214,-448.6635\"/>\n</g>\n<!-- 17 -->\n<g id=\"node17\" class=\"node\">\n<title>17</title>\n<ellipse fill=\"#3498db\" stroke=\"#3498db\" cx=\"265\" cy=\"-430.9908\" rx=\"20.5982\" ry=\"20.5982\"/>\n<text text-anchor=\"middle\" x=\"265\" y=\"-427.2908\" font-family=\"Times,serif\" font-size=\"14.00\" fill=\"#3498db\">17</text>\n</g>\n<!-- 1&#45;&gt;17 -->\n<g id=\"edge64\" class=\"edge\">\n<title>1&#45;&gt;17</title>\n<path fill=\"none\" stroke=\"#707070\" d=\"M478.7376,-602.3541C438.4743,-570.0732 324.0946,-478.3696 281.3672,-444.1131\"/>\n</g>\n<!-- 18 -->\n<g id=\"node18\" class=\"node\">\n<title>18</title>\n<ellipse fill=\"#3498db\" stroke=\"#3498db\" cx=\"151\" cy=\"-430.9908\" rx=\"20.5982\" ry=\"20.5982\"/>\n<text text-anchor=\"middle\" x=\"151\" y=\"-427.2908\" font-family=\"Times,serif\" font-size=\"14.00\" fill=\"#3498db\">18</text>\n</g>\n<!-- 1&#45;&gt;18 -->\n<g id=\"edge73\" class=\"edge\">\n<title>1&#45;&gt;18</title>\n<path fill=\"none\" stroke=\"#707070\" d=\"M476.9633,-605.2174C420.3096,-574.9361 229.7491,-473.082 169.4546,-440.8547\"/>\n</g>\n<!-- 2 -->\n<g id=\"node2\" class=\"node\">\n<title>2</title>\n<ellipse fill=\"#2ecc71\" stroke=\"#2ecc71\" cx=\"385\" cy=\"-613.7889\" rx=\"18\" ry=\"18\"/>\n<text text-anchor=\"middle\" x=\"385\" y=\"-610.0889\" font-family=\"Times,serif\" font-size=\"14.00\" fill=\"#2ecc71\">2</text>\n</g>\n<!-- 2&#45;&gt;10 -->\n<g id=\"edge2\" class=\"edge\">\n<title>2&#45;&gt;10</title>\n<path fill=\"none\" stroke=\"#707070\" d=\"M368.682,-605.2174C311.0344,-574.9361 117.1307,-473.082 55.7784,-440.8547\"/>\n</g>\n<!-- 2&#45;&gt;11 -->\n<g id=\"edge11\" class=\"edge\">\n<title>2&#45;&gt;11</title>\n<path fill=\"none\" stroke=\"#707070\" d=\"M402.1569,-608.2183C484.8089,-581.3824 841.503,-465.5689 928.7085,-437.2545\"/>\n</g>\n<!-- 2&#45;&gt;12 -->\n<g id=\"edge20\" class=\"edge\">\n<title>2&#45;&gt;12</title>\n<path fill=\"none\" stroke=\"#707070\" d=\"M401.8192,-606.9566C471.9447,-578.4704 740.8673,-469.2292 815.621,-438.8629\"/>\n</g>\n<!-- 2&#45;&gt;13 -->\n<g id=\"edge29\" class=\"edge\">\n<title>2&#45;&gt;13</title>\n<path fill=\"none\" stroke=\"#707070\" d=\"M401.206,-604.9722C457.3118,-574.4483 643.0851,-473.3798 702.5317,-441.0383\"/>\n</g>\n<!-- 2&#45;&gt;14 -->\n<g id=\"edge38\" class=\"edge\">\n<title>2&#45;&gt;14</title>\n<path fill=\"none\" stroke=\"#707070\" d=\"M399.2248,-602.076C438.6527,-569.6105 549.1653,-478.6127 590.8303,-444.3052\"/>\n</g>\n<!-- 2&#45;&gt;15 -->\n<g id=\"edge47\" class=\"edge\">\n<title>2&#45;&gt;15</title>\n<path fill=\"none\" stroke=\"#707070\" d=\"M394.208,-598.2037C414.1532,-564.445 461.2502,-484.7297 482.3969,-448.9373\"/>\n</g>\n<!-- 2&#45;&gt;16 -->\n<g id=\"edge56\" class=\"edge\">\n<title>2&#45;&gt;16</title>\n<path fill=\"none\" stroke=\"#707070\" d=\"M384.4028,-595.5932C383.2823,-561.4576 380.8715,-488.0073 379.6863,-451.8988\"/>\n</g>\n<!-- 2&#45;&gt;17 -->\n<g id=\"edge65\" class=\"edge\">\n<title>2&#45;&gt;17</title>\n<path fill=\"none\" stroke=\"#707070\" d=\"M374.9753,-598.5181C352.8377,-564.7955 299.89,-484.1393 276.4734,-448.4684\"/>\n</g>\n<!-- 2&#45;&gt;18 -->\n<g id=\"edge74\" class=\"edge\">\n<title>2&#45;&gt;18</title>\n<path fill=\"none\" stroke=\"#707070\" d=\"M370.7145,-602.6293C329.634,-570.5376 211.3338,-478.1229 167.552,-443.921\"/>\n</g>\n<!-- 3 -->\n<g id=\"node3\" class=\"node\">\n<title>3</title>\n<ellipse fill=\"#2ecc71\" stroke=\"#2ecc71\" cx=\"277\" cy=\"-613.7889\" rx=\"18\" ry=\"18\"/>\n<text text-anchor=\"middle\" x=\"277\" y=\"-610.0889\" font-family=\"Times,serif\" font-size=\"14.00\" fill=\"#2ecc71\">3</text>\n</g>\n<!-- 3&#45;&gt;10 -->\n<g id=\"edge3\" class=\"edge\">\n<title>3&#45;&gt;10</title>\n<path fill=\"none\" stroke=\"#707070\" d=\"M262.3482,-602.6293C220.1126,-570.4601 98.2942,-477.6761 53.6524,-443.6742\"/>\n</g>\n<!-- 3&#45;&gt;11 -->\n<g id=\"edge12\" class=\"edge\">\n<title>3&#45;&gt;11</title>\n<path fill=\"none\" stroke=\"#707070\" d=\"M294.6027,-608.9935C388.4793,-583.419 829.6184,-463.2411 928.3593,-436.3414\"/>\n</g>\n<!-- 3&#45;&gt;12 -->\n<g id=\"edge21\" class=\"edge\">\n<title>3&#45;&gt;12</title>\n<path fill=\"none\" stroke=\"#707070\" d=\"M294.3117,-608.1177C376.5391,-581.1804 727.3082,-466.2701 815.0454,-437.5278\"/>\n</g>\n<!-- 3&#45;&gt;13 -->\n<g id=\"edge30\" class=\"edge\">\n<title>3&#45;&gt;13</title>\n<path fill=\"none\" stroke=\"#707070\" d=\"M293.8632,-606.8462C363.4017,-578.2167 627.7117,-469.3983 701.6677,-438.95\"/>\n</g>\n<!-- 3&#45;&gt;14 -->\n<g id=\"edge39\" class=\"edge\">\n<title>3&#45;&gt;14</title>\n<path fill=\"none\" stroke=\"#707070\" d=\"M292.9166,-604.9722C347.8918,-574.5196 529.6245,-473.8517 588.4502,-441.2661\"/>\n</g>\n<!-- 3&#45;&gt;15 -->\n<g id=\"edge48\" class=\"edge\">\n<title>3&#45;&gt;15</title>\n<path fill=\"none\" stroke=\"#707070\" d=\"M290.8404,-602.076C329.1095,-569.6893 436.2069,-479.0541 476.9709,-444.556\"/>\n</g>\n<!-- 3&#45;&gt;16 -->\n<g id=\"edge57\" class=\"edge\">\n<title>3&#45;&gt;16</title>\n<path fill=\"none\" stroke=\"#707070\" d=\"M285.8734,-597.8866C304.7277,-564.097 348.6891,-485.3122 368.723,-449.4086\"/>\n</g>\n<!-- 3&#45;&gt;17 -->\n<g id=\"edge66\" class=\"edge\">\n<title>3&#45;&gt;17</title>\n<path fill=\"none\" stroke=\"#707070\" d=\"M275.8055,-595.5932C273.5646,-561.4576 268.7429,-488.0073 266.3725,-451.8988\"/>\n</g>\n<!-- 3&#45;&gt;18 -->\n<g id=\"edge75\" class=\"edge\">\n<title>3&#45;&gt;18</title>\n<path fill=\"none\" stroke=\"#707070\" d=\"M266.6889,-598.8298C243.5318,-565.2339 187.5065,-483.9536 162.9123,-448.2729\"/>\n</g>\n<!-- 4 -->\n<g id=\"node4\" class=\"node\">\n<title>4</title>\n<ellipse fill=\"#2ecc71\" stroke=\"#2ecc71\" cx=\"169\" cy=\"-613.7889\" rx=\"18\" ry=\"18\"/>\n<text text-anchor=\"middle\" x=\"169\" y=\"-610.0889\" font-family=\"Times,serif\" font-size=\"14.00\" fill=\"#2ecc71\">4</text>\n</g>\n<!-- 4&#45;&gt;10 -->\n<g id=\"edge4\" class=\"edge\">\n<title>4&#45;&gt;10</title>\n<path fill=\"none\" stroke=\"#707070\" d=\"M158.421,-599.1388C134.2557,-565.6739 75.1084,-483.7646 49.3381,-448.077\"/>\n</g>\n<!-- 4&#45;&gt;11 -->\n<g id=\"edge13\" class=\"edge\">\n<title>4&#45;&gt;11</title>\n<path fill=\"none\" stroke=\"#707070\" d=\"M186.7342,-609.6275C290.5722,-585.2611 818.9198,-461.2804 928.2025,-435.6364\"/>\n</g>\n<!-- 4&#45;&gt;12 -->\n<g id=\"edge22\" class=\"edge\">\n<title>4&#45;&gt;12</title>\n<path fill=\"none\" stroke=\"#707070\" d=\"M186.4716,-608.9935C279.4434,-583.4754 715.5733,-463.77 814.8531,-436.5205\"/>\n</g>\n<!-- 4&#45;&gt;13 -->\n<g id=\"edge31\" class=\"edge\">\n<title>4&#45;&gt;13</title>\n<path fill=\"none\" stroke=\"#707070\" d=\"M186.1256,-608.1177C267.3778,-581.2105 613.6903,-466.527 700.9678,-437.6246\"/>\n</g>\n<!-- 4&#45;&gt;14 -->\n<g id=\"edge40\" class=\"edge\">\n<title>4&#45;&gt;14</title>\n<path fill=\"none\" stroke=\"#707070\" d=\"M185.6353,-606.8462C254.156,-578.2493 514.3786,-469.6461 587.6789,-439.0544\"/>\n</g>\n<!-- 4&#45;&gt;15 -->\n<g id=\"edge49\" class=\"edge\">\n<title>4&#45;&gt;15</title>\n<path fill=\"none\" stroke=\"#707070\" d=\"M185.0672,-604.7239C239.5902,-573.9625 417.347,-473.6736 474.8651,-441.2223\"/>\n</g>\n<!-- 4&#45;&gt;16 -->\n<g id=\"edge58\" class=\"edge\">\n<title>4&#45;&gt;16</title>\n<path fill=\"none\" stroke=\"#707070\" d=\"M182.7787,-601.795C220.1907,-569.2291 323.5121,-479.2912 363.1944,-444.7491\"/>\n</g>\n<!-- 4&#45;&gt;17 -->\n<g id=\"edge67\" class=\"edge\">\n<title>4&#45;&gt;17</title>\n<path fill=\"none\" stroke=\"#707070\" d=\"M177.5194,-597.5668C195.324,-563.6641 236.3819,-485.4839 255.2249,-449.604\"/>\n</g>\n<!-- 4&#45;&gt;18 -->\n<g id=\"edge76\" class=\"edge\">\n<title>4&#45;&gt;18</title>\n<path fill=\"none\" stroke=\"#707070\" d=\"M167.2083,-595.5932C163.847,-561.4576 156.6144,-488.0073 153.0588,-451.8988\"/>\n</g>\n<!-- 5 -->\n<g id=\"node5\" class=\"node\">\n<title>5</title>\n<ellipse fill=\"#2ecc71\" stroke=\"#2ecc71\" cx=\"61\" cy=\"-613.7889\" rx=\"18\" ry=\"18\"/>\n<text text-anchor=\"middle\" x=\"61\" y=\"-610.0889\" font-family=\"Times,serif\" font-size=\"14.00\" fill=\"#2ecc71\">5</text>\n</g>\n<!-- 5&#45;&gt;10 -->\n<g id=\"edge5\" class=\"edge\">\n<title>5&#45;&gt;10</title>\n<path fill=\"none\" stroke=\"#707070\" d=\"M58.6551,-595.9286C54.1848,-561.8803 44.4668,-487.8622 39.7196,-451.7051\"/>\n</g>\n<!-- 5&#45;&gt;11 -->\n<g id=\"edge14\" class=\"edge\">\n<title>5&#45;&gt;11</title>\n<path fill=\"none\" stroke=\"#707070\" d=\"M78.7182,-610.1375C191.5236,-586.8899 808.5408,-459.7313 927.9762,-435.1174\"/>\n</g>\n<!-- 5&#45;&gt;12 -->\n<g id=\"edge23\" class=\"edge\">\n<title>5&#45;&gt;12</title>\n<path fill=\"none\" stroke=\"#707070\" d=\"M78.6203,-609.6275C181.5669,-585.3142 704.4605,-461.8207 814.6131,-435.8056\"/>\n</g>\n<!-- 5&#45;&gt;13 -->\n<g id=\"edge32\" class=\"edge\">\n<title>5&#45;&gt;13</title>\n<path fill=\"none\" stroke=\"#707070\" d=\"M78.6534,-608.8995C171.4147,-583.2077 601.9392,-463.9667 700.7498,-436.5994\"/>\n</g>\n<!-- 5&#45;&gt;14 -->\n<g id=\"edge41\" class=\"edge\">\n<title>5&#45;&gt;14</title>\n<path fill=\"none\" stroke=\"#707070\" d=\"M78.2425,-608.0162C159.1787,-580.9192 501.0744,-466.4542 587.227,-437.6107\"/>\n</g>\n<!-- 5&#45;&gt;15 -->\n<g id=\"edge50\" class=\"edge\">\n<title>5&#45;&gt;15</title>\n<path fill=\"none\" stroke=\"#707070\" d=\"M77.6702,-606.735C145.5873,-577.9963 401.2519,-469.8134 473.7363,-439.1421\"/>\n</g>\n<!-- 5&#45;&gt;16 -->\n<g id=\"edge59\" class=\"edge\">\n<title>5&#45;&gt;16</title>\n<path fill=\"none\" stroke=\"#707070\" d=\"M76.7697,-604.7239C130.1576,-574.0346 303.9315,-474.1429 360.8024,-441.4514\"/>\n</g>\n<!-- 5&#45;&gt;17 -->\n<g id=\"edge68\" class=\"edge\">\n<title>5&#45;&gt;17</title>\n<path fill=\"none\" stroke=\"#707070\" d=\"M74.7018,-601.5112C111.2396,-568.7707 210.8369,-479.5247 249.4305,-444.9421\"/>\n</g>\n<!-- 5&#45;&gt;18 -->\n<g id=\"edge77\" class=\"edge\">\n<title>5&#45;&gt;18</title>\n<path fill=\"none\" stroke=\"#707070\" d=\"M68.9869,-597.5668C85.6357,-563.7515 123.9722,-485.8866 141.6989,-449.8822\"/>\n</g>\n<!-- 6 -->\n<g id=\"node6\" class=\"node\">\n<title>6</title>\n<ellipse fill=\"#2ecc71\" stroke=\"#2ecc71\" cx=\"925\" cy=\"-613.7889\" rx=\"18\" ry=\"18\"/>\n<text text-anchor=\"middle\" x=\"925\" y=\"-610.0889\" font-family=\"Times,serif\" font-size=\"14.00\" fill=\"#2ecc71\">6</text>\n</g>\n<!-- 6&#45;&gt;10 -->\n<g id=\"edge6\" class=\"edge\">\n<title>6&#45;&gt;10</title>\n<path fill=\"none\" stroke=\"#707070\" d=\"M907.2619,-610.1375C794.4515,-586.915 177.9529,-460.0065 57.4363,-435.1977\"/>\n</g>\n<!-- 6&#45;&gt;11 -->\n<g id=\"edge15\" class=\"edge\">\n<title>6&#45;&gt;11</title>\n<path fill=\"none\" stroke=\"#707070\" d=\"M927.2472,-595.9286C931.5539,-561.7006 940.9428,-487.0799 945.4653,-451.1359\"/>\n</g>\n<!-- 6&#45;&gt;12 -->\n<g id=\"edge24\" class=\"edge\">\n<title>6&#45;&gt;12</title>\n<path fill=\"none\" stroke=\"#707070\" d=\"M917.0131,-597.5668C900.3643,-563.7515 862.0278,-485.8866 844.3011,-449.8822\"/>\n</g>\n<!-- 6&#45;&gt;13 -->\n<g id=\"edge33\" class=\"edge\">\n<title>6&#45;&gt;13</title>\n<path fill=\"none\" stroke=\"#707070\" d=\"M911.2982,-601.5112C874.7604,-568.7707 775.1631,-479.5247 736.5695,-444.9421\"/>\n</g>\n<!-- 6&#45;&gt;14 -->\n<g id=\"edge42\" class=\"edge\">\n<title>6&#45;&gt;14</title>\n<path fill=\"none\" stroke=\"#707070\" d=\"M909.2303,-604.7239C855.8424,-574.0346 682.0685,-474.1429 625.1976,-441.4514\"/>\n</g>\n<!-- 6&#45;&gt;15 -->\n<g id=\"edge51\" class=\"edge\">\n<title>6&#45;&gt;15</title>\n<path fill=\"none\" stroke=\"#707070\" d=\"M908.3298,-606.735C840.4127,-577.9963 584.7481,-469.8134 512.2637,-439.1421\"/>\n</g>\n<!-- 6&#45;&gt;16 -->\n<g id=\"edge60\" class=\"edge\">\n<title>6&#45;&gt;16</title>\n<path fill=\"none\" stroke=\"#707070\" d=\"M907.7575,-608.0162C826.8213,-580.9192 484.9256,-466.4542 398.773,-437.6107\"/>\n</g>\n<!-- 6&#45;&gt;17 -->\n<g id=\"edge69\" class=\"edge\">\n<title>6&#45;&gt;17</title>\n<path fill=\"none\" stroke=\"#707070\" d=\"M907.3466,-608.8995C814.5853,-583.2077 384.0608,-463.9667 285.2502,-436.5994\"/>\n</g>\n<!-- 6&#45;&gt;18 -->\n<g id=\"edge78\" class=\"edge\">\n<title>6&#45;&gt;18</title>\n<path fill=\"none\" stroke=\"#707070\" d=\"M907.3797,-609.6275C804.4331,-585.3142 281.5395,-461.8207 171.3869,-435.8056\"/>\n</g>\n<!-- 7 -->\n<g id=\"node7\" class=\"node\">\n<title>7</title>\n<ellipse fill=\"#2ecc71\" stroke=\"#2ecc71\" cx=\"817\" cy=\"-613.7889\" rx=\"18\" ry=\"18\"/>\n<text text-anchor=\"middle\" x=\"817\" y=\"-610.0889\" font-family=\"Times,serif\" font-size=\"14.00\" fill=\"#2ecc71\">7</text>\n</g>\n<!-- 7&#45;&gt;10 -->\n<g id=\"edge7\" class=\"edge\">\n<title>7&#45;&gt;10</title>\n<path fill=\"none\" stroke=\"#707070\" d=\"M799.2431,-609.6275C695.4985,-585.3142 168.5515,-461.8207 57.5449,-435.8056\"/>\n</g>\n<!-- 7&#45;&gt;11 -->\n<g id=\"edge16\" class=\"edge\">\n<title>7&#45;&gt;11</title>\n<path fill=\"none\" stroke=\"#707070\" d=\"M827.4988,-599.1388C851.6025,-565.5044 910.7756,-482.9339 936.1413,-447.5385\"/>\n</g>\n<!-- 7&#45;&gt;12 -->\n<g id=\"edge25\" class=\"edge\">\n<title>7&#45;&gt;12</title>\n<path fill=\"none\" stroke=\"#707070\" d=\"M818.7917,-595.5932C822.153,-561.4576 829.3856,-488.0073 832.9412,-451.8988\"/>\n</g>\n<!-- 7&#45;&gt;13 -->\n<g id=\"edge34\" class=\"edge\">\n<title>7&#45;&gt;13</title>\n<path fill=\"none\" stroke=\"#707070\" d=\"M808.4806,-597.5668C790.676,-563.6641 749.6181,-485.4839 730.7751,-449.604\"/>\n</g>\n<!-- 7&#45;&gt;14 -->\n<g id=\"edge43\" class=\"edge\">\n<title>7&#45;&gt;14</title>\n<path fill=\"none\" stroke=\"#707070\" d=\"M803.2213,-601.795C765.8093,-569.2291 662.4879,-479.2912 622.8056,-444.7491\"/>\n</g>\n<!-- 7&#45;&gt;15 -->\n<g id=\"edge52\" class=\"edge\">\n<title>7&#45;&gt;15</title>\n<path fill=\"none\" stroke=\"#707070\" d=\"M800.9328,-604.7239C746.4098,-573.9625 568.653,-473.6736 511.1349,-441.2223\"/>\n</g>\n<!-- 7&#45;&gt;16 -->\n<g id=\"edge61\" class=\"edge\">\n<title>7&#45;&gt;16</title>\n<path fill=\"none\" stroke=\"#707070\" d=\"M800.3647,-606.8462C731.844,-578.2493 471.6214,-469.6461 398.3211,-439.0544\"/>\n</g>\n<!-- 7&#45;&gt;17 -->\n<g id=\"edge70\" class=\"edge\">\n<title>7&#45;&gt;17</title>\n<path fill=\"none\" stroke=\"#707070\" d=\"M799.8744,-608.1177C718.6222,-581.2105 372.3097,-466.527 285.0322,-437.6246\"/>\n</g>\n<!-- 7&#45;&gt;18 -->\n<g id=\"edge79\" class=\"edge\">\n<title>7&#45;&gt;18</title>\n<path fill=\"none\" stroke=\"#707070\" d=\"M799.5284,-608.9935C706.5566,-583.4754 270.4267,-463.77 171.1469,-436.5205\"/>\n</g>\n<!-- 8 -->\n<g id=\"node8\" class=\"node\">\n<title>8</title>\n<ellipse fill=\"#2ecc71\" stroke=\"#2ecc71\" cx=\"709\" cy=\"-613.7889\" rx=\"18\" ry=\"18\"/>\n<text text-anchor=\"middle\" x=\"709\" y=\"-610.0889\" font-family=\"Times,serif\" font-size=\"14.00\" fill=\"#2ecc71\">8</text>\n</g>\n<!-- 8&#45;&gt;10 -->\n<g id=\"edge8\" class=\"edge\">\n<title>8&#45;&gt;10</title>\n<path fill=\"none\" stroke=\"#707070\" d=\"M691.371,-608.9935C597.5617,-583.4754 157.5026,-463.77 57.3284,-436.5205\"/>\n</g>\n<!-- 8&#45;&gt;11 -->\n<g id=\"edge17\" class=\"edge\">\n<title>8&#45;&gt;11</title>\n<path fill=\"none\" stroke=\"#707070\" d=\"M723.5907,-602.6293C765.7517,-570.3826 887.5463,-477.2285 931.737,-443.4294\"/>\n</g>\n<!-- 8&#45;&gt;12 -->\n<g id=\"edge26\" class=\"edge\">\n<title>8&#45;&gt;12</title>\n<path fill=\"none\" stroke=\"#707070\" d=\"M719.3111,-598.8298C742.4682,-565.2339 798.4935,-483.9536 823.0877,-448.2729\"/>\n</g>\n<!-- 8&#45;&gt;13 -->\n<g id=\"edge35\" class=\"edge\">\n<title>8&#45;&gt;13</title>\n<path fill=\"none\" stroke=\"#707070\" d=\"M710.1945,-595.5932C712.4354,-561.4576 717.2571,-488.0073 719.6275,-451.8988\"/>\n</g>\n<!-- 8&#45;&gt;14 -->\n<g id=\"edge44\" class=\"edge\">\n<title>8&#45;&gt;14</title>\n<path fill=\"none\" stroke=\"#707070\" d=\"M700.1266,-597.8866C681.2723,-564.097 637.3109,-485.3122 617.277,-449.4086\"/>\n</g>\n<!-- 8&#45;&gt;15 -->\n<g id=\"edge53\" class=\"edge\">\n<title>8&#45;&gt;15</title>\n<path fill=\"none\" stroke=\"#707070\" d=\"M695.1596,-602.076C656.8905,-569.6893 549.7931,-479.0541 509.0291,-444.556\"/>\n</g>\n<!-- 8&#45;&gt;16 -->\n<g id=\"edge62\" class=\"edge\">\n<title>8&#45;&gt;16</title>\n<path fill=\"none\" stroke=\"#707070\" d=\"M693.0834,-604.9722C638.1082,-574.5196 456.3755,-473.8517 397.5498,-441.2661\"/>\n</g>\n<!-- 8&#45;&gt;17 -->\n<g id=\"edge71\" class=\"edge\">\n<title>8&#45;&gt;17</title>\n<path fill=\"none\" stroke=\"#707070\" d=\"M692.1368,-606.8462C622.5983,-578.2167 358.2883,-469.3983 284.3323,-438.95\"/>\n</g>\n<!-- 8&#45;&gt;18 -->\n<g id=\"edge80\" class=\"edge\">\n<title>8&#45;&gt;18</title>\n<path fill=\"none\" stroke=\"#707070\" d=\"M691.6883,-608.1177C609.4609,-581.1804 258.6918,-466.2701 170.9546,-437.5278\"/>\n</g>\n<!-- 9 -->\n<g id=\"node9\" class=\"node\">\n<title>9</title>\n<ellipse fill=\"#2ecc71\" stroke=\"#2ecc71\" cx=\"601\" cy=\"-613.7889\" rx=\"18\" ry=\"18\"/>\n<text text-anchor=\"middle\" x=\"601\" y=\"-610.0889\" font-family=\"Times,serif\" font-size=\"14.00\" fill=\"#2ecc71\">9</text>\n</g>\n<!-- 9&#45;&gt;10 -->\n<g id=\"edge9\" class=\"edge\">\n<title>9&#45;&gt;10</title>\n<path fill=\"none\" stroke=\"#707070\" d=\"M583.8126,-608.2183C501.1984,-581.4422 145.2783,-466.0849 56.9142,-437.4452\"/>\n</g>\n<!-- 9&#45;&gt;11 -->\n<g id=\"edge18\" class=\"edge\">\n<title>9&#45;&gt;11</title>\n<path fill=\"none\" stroke=\"#707070\" d=\"M617.2711,-605.2174C675.0211,-574.7949 869.9053,-472.1307 930.1225,-440.4085\"/>\n</g>\n<!-- 9&#45;&gt;12 -->\n<g id=\"edge27\" class=\"edge\">\n<title>9&#45;&gt;12</title>\n<path fill=\"none\" stroke=\"#707070\" d=\"M615.2855,-602.6293C656.366,-570.5376 774.6662,-478.1229 818.448,-443.921\"/>\n</g>\n<!-- 9&#45;&gt;13 -->\n<g id=\"edge36\" class=\"edge\">\n<title>9&#45;&gt;13</title>\n<path fill=\"none\" stroke=\"#707070\" d=\"M611.0247,-598.5181C633.1623,-564.7955 686.11,-484.1393 709.5266,-448.4684\"/>\n</g>\n<!-- 9&#45;&gt;14 -->\n<g id=\"edge45\" class=\"edge\">\n<title>9&#45;&gt;14</title>\n<path fill=\"none\" stroke=\"#707070\" d=\"M601.5972,-595.5932C602.7177,-561.4576 605.1285,-488.0073 606.3137,-451.8988\"/>\n</g>\n<!-- 9&#45;&gt;15 -->\n<g id=\"edge54\" class=\"edge\">\n<title>9&#45;&gt;15</title>\n<path fill=\"none\" stroke=\"#707070\" d=\"M591.792,-598.2037C571.8468,-564.445 524.7498,-484.7297 503.6031,-448.9373\"/>\n</g>\n<!-- 9&#45;&gt;16 -->\n<g id=\"edge63\" class=\"edge\">\n<title>9&#45;&gt;16</title>\n<path fill=\"none\" stroke=\"#707070\" d=\"M586.7752,-602.076C547.3473,-569.6105 436.8347,-478.6127 395.1697,-444.3052\"/>\n</g>\n<!-- 9&#45;&gt;17 -->\n<g id=\"edge72\" class=\"edge\">\n<title>9&#45;&gt;17</title>\n<path fill=\"none\" stroke=\"#707070\" d=\"M584.794,-604.9722C528.6882,-574.4483 342.9149,-473.3798 283.4683,-441.0383\"/>\n</g>\n<!-- 9&#45;&gt;18 -->\n<g id=\"edge81\" class=\"edge\">\n<title>9&#45;&gt;18</title>\n<path fill=\"none\" stroke=\"#707070\" d=\"M584.1808,-606.9566C514.0553,-578.4704 245.1327,-469.2292 170.379,-438.8629\"/>\n</g>\n<!-- 19 -->\n<g id=\"node19\" class=\"node\">\n<title>19</title>\n<ellipse fill=\"#3498db\" stroke=\"#3498db\" cx=\"37\" cy=\"-245.3945\" rx=\"20.5982\" ry=\"20.5982\"/>\n<text text-anchor=\"middle\" x=\"37\" y=\"-241.6945\" font-family=\"Times,serif\" font-size=\"14.00\" fill=\"#3498db\">19</text>\n</g>\n<!-- 10&#45;&gt;19 -->\n<g id=\"edge82\" class=\"edge\">\n<title>10&#45;&gt;19</title>\n<path fill=\"none\" stroke=\"#707070\" d=\"M37,-410.0613C37,-374.3213 37,-301.9351 37,-266.2475\"/>\n</g>\n<!-- 20 -->\n<g id=\"node20\" class=\"node\">\n<title>20</title>\n<ellipse fill=\"#3498db\" stroke=\"#3498db\" cx=\"949\" cy=\"-245.3945\" rx=\"20.5982\" ry=\"20.5982\"/>\n<text text-anchor=\"middle\" x=\"949\" y=\"-241.6945\" font-family=\"Times,serif\" font-size=\"14.00\" fill=\"#3498db\">20</text>\n</g>\n<!-- 10&#45;&gt;20 -->\n<g id=\"edge91\" class=\"edge\">\n<title>10&#45;&gt;20</title>\n<path fill=\"none\" stroke=\"#707070\" d=\"M57.7619,-426.7656C180.1239,-401.8644 805.9975,-274.4961 928.2705,-249.613\"/>\n</g>\n<!-- 21 -->\n<g id=\"node21\" class=\"node\">\n<title>21</title>\n<ellipse fill=\"#3498db\" stroke=\"#3498db\" cx=\"835\" cy=\"-245.3945\" rx=\"20.5982\" ry=\"20.5982\"/>\n<text text-anchor=\"middle\" x=\"835\" y=\"-241.6945\" font-family=\"Times,serif\" font-size=\"14.00\" fill=\"#3498db\">21</text>\n</g>\n<!-- 10&#45;&gt;21 -->\n<g id=\"edge100\" class=\"edge\">\n<title>10&#45;&gt;21</title>\n<path fill=\"none\" stroke=\"#707070\" d=\"M57.5279,-426.2165C169.2596,-400.2302 703.2187,-276.0437 814.6079,-250.1372\"/>\n</g>\n<!-- 22 -->\n<g id=\"node22\" class=\"node\">\n<title>22</title>\n<ellipse fill=\"#3498db\" stroke=\"#3498db\" cx=\"721\" cy=\"-245.3945\" rx=\"20.5982\" ry=\"20.5982\"/>\n<text text-anchor=\"middle\" x=\"721\" y=\"-241.6945\" font-family=\"Times,serif\" font-size=\"14.00\" fill=\"#3498db\">22</text>\n</g>\n<!-- 10&#45;&gt;22 -->\n<g id=\"edge109\" class=\"edge\">\n<title>10&#45;&gt;22</title>\n<path fill=\"none\" stroke=\"#707070\" d=\"M57.1004,-425.5367C157.1727,-398.3832 600.8238,-278.003 700.8985,-250.8488\"/>\n</g>\n<!-- 23 -->\n<g id=\"node23\" class=\"node\">\n<title>23</title>\n<ellipse fill=\"#3498db\" stroke=\"#3498db\" cx=\"607\" cy=\"-245.3945\" rx=\"20.5982\" ry=\"20.5982\"/>\n<text text-anchor=\"middle\" x=\"607\" y=\"-241.6945\" font-family=\"Times,serif\" font-size=\"14.00\" fill=\"#3498db\">23</text>\n</g>\n<!-- 10&#45;&gt;23 -->\n<g id=\"edge118\" class=\"edge\">\n<title>10&#45;&gt;23</title>\n<path fill=\"none\" stroke=\"#707070\" d=\"M56.9524,-424.4941C145.129,-395.7831 499.3595,-280.443 587.2096,-251.8384\"/>\n</g>\n<!-- 24 -->\n<g id=\"node24\" class=\"node\">\n<title>24</title>\n<ellipse fill=\"#3498db\" stroke=\"#3498db\" cx=\"493\" cy=\"-245.3945\" rx=\"20.5982\" ry=\"20.5982\"/>\n<text text-anchor=\"middle\" x=\"493\" y=\"-241.6945\" font-family=\"Times,serif\" font-size=\"14.00\" fill=\"#3498db\">24</text>\n</g>\n<!-- 10&#45;&gt;24 -->\n<g id=\"edge127\" class=\"edge\">\n<title>10&#45;&gt;24</title>\n<path fill=\"none\" stroke=\"#707070\" d=\"M56.3025,-423.1345C130.8053,-392.8111 399.1815,-283.5795 473.6927,-253.2527\"/>\n</g>\n<!-- 25 -->\n<g id=\"node25\" class=\"node\">\n<title>25</title>\n<ellipse fill=\"#3498db\" stroke=\"#3498db\" cx=\"379\" cy=\"-245.3945\" rx=\"20.5982\" ry=\"20.5982\"/>\n<text text-anchor=\"middle\" x=\"379\" y=\"-241.6945\" font-family=\"Times,serif\" font-size=\"14.00\" fill=\"#3498db\">25</text>\n</g>\n<!-- 10&#45;&gt;25 -->\n<g id=\"edge136\" class=\"edge\">\n<title>10&#45;&gt;25</title>\n<path fill=\"none\" stroke=\"#707070\" d=\"M55.3874,-421.0123C114.7698,-388.7867 301.01,-287.718 360.5217,-255.4223\"/>\n</g>\n<!-- 26 -->\n<g id=\"node26\" class=\"node\">\n<title>26</title>\n<ellipse fill=\"#3498db\" stroke=\"#3498db\" cx=\"265\" cy=\"-245.3945\" rx=\"20.5982\" ry=\"20.5982\"/>\n<text text-anchor=\"middle\" x=\"265\" y=\"-241.6945\" font-family=\"Times,serif\" font-size=\"14.00\" fill=\"#3498db\">26</text>\n</g>\n<!-- 10&#45;&gt;26 -->\n<g id=\"edge145\" class=\"edge\">\n<title>10&#45;&gt;26</title>\n<path fill=\"none\" stroke=\"#707070\" d=\"M53.3972,-417.6431C95.4649,-383.3992 206.8474,-292.7318 248.7514,-258.6211\"/>\n</g>\n<!-- 27 -->\n<g id=\"node27\" class=\"node\">\n<title>27</title>\n<ellipse fill=\"#3498db\" stroke=\"#3498db\" cx=\"151\" cy=\"-245.3945\" rx=\"20.5982\" ry=\"20.5982\"/>\n<text text-anchor=\"middle\" x=\"151\" y=\"-241.6945\" font-family=\"Times,serif\" font-size=\"14.00\" fill=\"#3498db\">27</text>\n</g>\n<!-- 10&#45;&gt;27 -->\n<g id=\"edge154\" class=\"edge\">\n<title>10&#45;&gt;27</title>\n<path fill=\"none\" stroke=\"#707070\" d=\"M47.9308,-413.195C69.7209,-377.72 118.3394,-298.5671 140.1023,-263.1363\"/>\n</g>\n<!-- 11&#45;&gt;19 -->\n<g id=\"edge83\" class=\"edge\">\n<title>11&#45;&gt;19</title>\n<path fill=\"none\" stroke=\"#707070\" d=\"M928.1252,-426.9417C807.9108,-402.4507 179.0701,-274.3381 57.3961,-249.5497\"/>\n</g>\n<!-- 11&#45;&gt;20 -->\n<g id=\"edge92\" class=\"edge\">\n<title>11&#45;&gt;20</title>\n<path fill=\"none\" stroke=\"#707070\" d=\"M948.1089,-410.7754C948.2998,-375.3562 948.6927,-302.4312 948.8866,-266.4371\"/>\n</g>\n<!-- 11&#45;&gt;21 -->\n<g id=\"edge101\" class=\"edge\">\n<title>11&#45;&gt;21</title>\n<path fill=\"none\" stroke=\"#707070\" d=\"M937.3692,-413.5303C915.8873,-378.2474 867.5145,-298.7977 845.8505,-263.2159\"/>\n</g>\n<!-- 11&#45;&gt;22 -->\n<g id=\"edge110\" class=\"edge\">\n<title>11&#45;&gt;22</title>\n<path fill=\"none\" stroke=\"#707070\" d=\"M932.3974,-418.234C891.1284,-384.4922 779.3922,-293.1362 737.3196,-258.7374\"/>\n</g>\n<!-- 11&#45;&gt;23 -->\n<g id=\"edge119\" class=\"edge\">\n<title>11&#45;&gt;23</title>\n<path fill=\"none\" stroke=\"#707070\" d=\"M930.1465,-421.2736C871.4943,-389.351 685.0892,-287.8961 625.5038,-255.4655\"/>\n</g>\n<!-- 11&#45;&gt;24 -->\n<g id=\"edge128\" class=\"edge\">\n<title>11&#45;&gt;24</title>\n<path fill=\"none\" stroke=\"#707070\" d=\"M929.3152,-423.3692C855.8198,-393.3901 587.0032,-283.7387 512.3471,-253.2862\"/>\n</g>\n<!-- 11&#45;&gt;25 -->\n<g id=\"edge137\" class=\"edge\">\n<title>11&#45;&gt;25</title>\n<path fill=\"none\" stroke=\"#707070\" d=\"M928.7423,-424.7093C841.8701,-396.3734 486.8971,-280.5883 398.8392,-251.8656\"/>\n</g>\n<!-- 11&#45;&gt;26 -->\n<g id=\"edge146\" class=\"edge\">\n<title>11&#45;&gt;26</title>\n<path fill=\"none\" stroke=\"#707070\" d=\"M928.2957,-425.6364C829.1059,-398.6829 385.2478,-278.0702 285.1142,-250.8602\"/>\n</g>\n<!-- 11&#45;&gt;27 -->\n<g id=\"edge155\" class=\"edge\">\n<title>11&#45;&gt;27</title>\n<path fill=\"none\" stroke=\"#707070\" d=\"M928.2988,-426.403C818.5117,-400.837 283.1568,-276.1696 171.4517,-250.157\"/>\n</g>\n<!-- 12&#45;&gt;19 -->\n<g id=\"edge84\" class=\"edge\">\n<title>12&#45;&gt;19</title>\n<path fill=\"none\" stroke=\"#707070\" d=\"M814.4721,-426.2165C702.7404,-400.2302 168.7813,-276.0437 57.3921,-250.1372\"/>\n</g>\n<!-- 12&#45;&gt;20 -->\n<g id=\"edge93\" class=\"edge\">\n<title>12&#45;&gt;20</title>\n<path fill=\"none\" stroke=\"#707070\" d=\"M845.9308,-413.195C867.7209,-377.72 916.3394,-298.5671 938.1023,-263.1363\"/>\n</g>\n<!-- 12&#45;&gt;21 -->\n<g id=\"edge102\" class=\"edge\">\n<title>12&#45;&gt;21</title>\n<path fill=\"none\" stroke=\"#707070\" d=\"M835,-410.0613C835,-374.3213 835,-301.9351 835,-266.2475\"/>\n</g>\n<!-- 12&#45;&gt;22 -->\n<g id=\"edge111\" class=\"edge\">\n<title>12&#45;&gt;22</title>\n<path fill=\"none\" stroke=\"#707070\" d=\"M824.0692,-413.195C802.2791,-377.72 753.6606,-298.5671 731.8977,-263.1363\"/>\n</g>\n<!-- 12&#45;&gt;23 -->\n<g id=\"edge120\" class=\"edge\">\n<title>12&#45;&gt;23</title>\n<path fill=\"none\" stroke=\"#707070\" d=\"M818.6028,-417.6431C776.5351,-383.3992 665.1526,-292.7318 623.2486,-258.6211\"/>\n</g>\n<!-- 12&#45;&gt;24 -->\n<g id=\"edge129\" class=\"edge\">\n<title>12&#45;&gt;24</title>\n<path fill=\"none\" stroke=\"#707070\" d=\"M816.6126,-421.0123C757.2302,-388.7867 570.99,-287.718 511.4783,-255.4223\"/>\n</g>\n<!-- 12&#45;&gt;25 -->\n<g id=\"edge138\" class=\"edge\">\n<title>12&#45;&gt;25</title>\n<path fill=\"none\" stroke=\"#707070\" d=\"M815.6975,-423.1345C741.1947,-392.8111 472.8185,-283.5795 398.3073,-253.2527\"/>\n</g>\n<!-- 12&#45;&gt;26 -->\n<g id=\"edge147\" class=\"edge\">\n<title>12&#45;&gt;26</title>\n<path fill=\"none\" stroke=\"#707070\" d=\"M815.0476,-424.4941C726.871,-395.7831 372.6405,-280.443 284.7904,-251.8384\"/>\n</g>\n<!-- 12&#45;&gt;27 -->\n<g id=\"edge156\" class=\"edge\">\n<title>12&#45;&gt;27</title>\n<path fill=\"none\" stroke=\"#707070\" d=\"M814.8996,-425.5367C714.8273,-398.3832 271.1762,-278.003 171.1015,-250.8488\"/>\n</g>\n<!-- 13&#45;&gt;19 -->\n<g id=\"edge85\" class=\"edge\">\n<title>13&#45;&gt;19</title>\n<path fill=\"none\" stroke=\"#707070\" d=\"M700.8996,-425.5367C600.8273,-398.3832 157.1762,-278.003 57.1015,-250.8488\"/>\n</g>\n<!-- 13&#45;&gt;20 -->\n<g id=\"edge94\" class=\"edge\">\n<title>13&#45;&gt;20</title>\n<path fill=\"none\" stroke=\"#707070\" d=\"M737.3972,-417.6431C779.4649,-383.3992 890.8474,-292.7318 932.7514,-258.6211\"/>\n</g>\n<!-- 13&#45;&gt;21 -->\n<g id=\"edge103\" class=\"edge\">\n<title>13&#45;&gt;21</title>\n<path fill=\"none\" stroke=\"#707070\" d=\"M731.9308,-413.195C753.7209,-377.72 802.3394,-298.5671 824.1023,-263.1363\"/>\n</g>\n<!-- 13&#45;&gt;22 -->\n<g id=\"edge112\" class=\"edge\">\n<title>13&#45;&gt;22</title>\n<path fill=\"none\" stroke=\"#707070\" d=\"M721,-410.0613C721,-374.3213 721,-301.9351 721,-266.2475\"/>\n</g>\n<!-- 13&#45;&gt;23 -->\n<g id=\"edge121\" class=\"edge\">\n<title>13&#45;&gt;23</title>\n<path fill=\"none\" stroke=\"#707070\" d=\"M710.0692,-413.195C688.2791,-377.72 639.6606,-298.5671 617.8977,-263.1363\"/>\n</g>\n<!-- 13&#45;&gt;24 -->\n<g id=\"edge130\" class=\"edge\">\n<title>13&#45;&gt;24</title>\n<path fill=\"none\" stroke=\"#707070\" d=\"M704.6028,-417.6431C662.5351,-383.3992 551.1526,-292.7318 509.2486,-258.6211\"/>\n</g>\n<!-- 13&#45;&gt;25 -->\n<g id=\"edge139\" class=\"edge\">\n<title>13&#45;&gt;25</title>\n<path fill=\"none\" stroke=\"#707070\" d=\"M702.6126,-421.0123C643.2302,-388.7867 456.99,-287.718 397.4783,-255.4223\"/>\n</g>\n<!-- 13&#45;&gt;26 -->\n<g id=\"edge148\" class=\"edge\">\n<title>13&#45;&gt;26</title>\n<path fill=\"none\" stroke=\"#707070\" d=\"M701.6975,-423.1345C627.1947,-392.8111 358.8185,-283.5795 284.3073,-253.2527\"/>\n</g>\n<!-- 13&#45;&gt;27 -->\n<g id=\"edge157\" class=\"edge\">\n<title>13&#45;&gt;27</title>\n<path fill=\"none\" stroke=\"#707070\" d=\"M701.0476,-424.4941C612.871,-395.7831 258.6405,-280.443 170.7904,-251.8384\"/>\n</g>\n<!-- 14&#45;&gt;19 -->\n<g id=\"edge86\" class=\"edge\">\n<title>14&#45;&gt;19</title>\n<path fill=\"none\" stroke=\"#707070\" d=\"M587.0476,-424.4941C498.871,-395.7831 144.6405,-280.443 56.7904,-251.8384\"/>\n</g>\n<!-- 14&#45;&gt;20 -->\n<g id=\"edge95\" class=\"edge\">\n<title>14&#45;&gt;20</title>\n<path fill=\"none\" stroke=\"#707070\" d=\"M625.3874,-421.0123C684.7698,-388.7867 871.01,-287.718 930.5217,-255.4223\"/>\n</g>\n<!-- 14&#45;&gt;21 -->\n<g id=\"edge104\" class=\"edge\">\n<title>14&#45;&gt;21</title>\n<path fill=\"none\" stroke=\"#707070\" d=\"M623.3972,-417.6431C665.4649,-383.3992 776.8474,-292.7318 818.7514,-258.6211\"/>\n</g>\n<!-- 14&#45;&gt;22 -->\n<g id=\"edge113\" class=\"edge\">\n<title>14&#45;&gt;22</title>\n<path fill=\"none\" stroke=\"#707070\" d=\"M617.9308,-413.195C639.7209,-377.72 688.3394,-298.5671 710.1023,-263.1363\"/>\n</g>\n<!-- 14&#45;&gt;23 -->\n<g id=\"edge122\" class=\"edge\">\n<title>14&#45;&gt;23</title>\n<path fill=\"none\" stroke=\"#707070\" d=\"M607,-410.0613C607,-374.3213 607,-301.9351 607,-266.2475\"/>\n</g>\n<!-- 14&#45;&gt;24 -->\n<g id=\"edge131\" class=\"edge\">\n<title>14&#45;&gt;24</title>\n<path fill=\"none\" stroke=\"#707070\" d=\"M596.0692,-413.195C574.2791,-377.72 525.6606,-298.5671 503.8977,-263.1363\"/>\n</g>\n<!-- 14&#45;&gt;25 -->\n<g id=\"edge140\" class=\"edge\">\n<title>14&#45;&gt;25</title>\n<path fill=\"none\" stroke=\"#707070\" d=\"M590.6028,-417.6431C548.5351,-383.3992 437.1526,-292.7318 395.2486,-258.6211\"/>\n</g>\n<!-- 14&#45;&gt;26 -->\n<g id=\"edge149\" class=\"edge\">\n<title>14&#45;&gt;26</title>\n<path fill=\"none\" stroke=\"#707070\" d=\"M588.6126,-421.0123C529.2302,-388.7867 342.99,-287.718 283.4783,-255.4223\"/>\n</g>\n<!-- 14&#45;&gt;27 -->\n<g id=\"edge158\" class=\"edge\">\n<title>14&#45;&gt;27</title>\n<path fill=\"none\" stroke=\"#707070\" d=\"M587.6975,-423.1345C513.1947,-392.8111 244.8185,-283.5795 170.3073,-253.2527\"/>\n</g>\n<!-- 15&#45;&gt;19 -->\n<g id=\"edge87\" class=\"edge\">\n<title>15&#45;&gt;19</title>\n<path fill=\"none\" stroke=\"#707070\" d=\"M473.6975,-423.1345C399.1947,-392.8111 130.8185,-283.5795 56.3073,-253.2527\"/>\n</g>\n<!-- 15&#45;&gt;20 -->\n<g id=\"edge96\" class=\"edge\">\n<title>15&#45;&gt;20</title>\n<path fill=\"none\" stroke=\"#707070\" d=\"M512.3025,-423.1345C586.8053,-392.8111 855.1815,-283.5795 929.6927,-253.2527\"/>\n</g>\n<!-- 15&#45;&gt;21 -->\n<g id=\"edge105\" class=\"edge\">\n<title>15&#45;&gt;21</title>\n<path fill=\"none\" stroke=\"#707070\" d=\"M511.3874,-421.0123C570.7698,-388.7867 757.01,-287.718 816.5217,-255.4223\"/>\n</g>\n<!-- 15&#45;&gt;22 -->\n<g id=\"edge114\" class=\"edge\">\n<title>15&#45;&gt;22</title>\n<path fill=\"none\" stroke=\"#707070\" d=\"M509.3972,-417.6431C551.4649,-383.3992 662.8474,-292.7318 704.7514,-258.6211\"/>\n</g>\n<!-- 15&#45;&gt;23 -->\n<g id=\"edge123\" class=\"edge\">\n<title>15&#45;&gt;23</title>\n<path fill=\"none\" stroke=\"#707070\" d=\"M503.9308,-413.195C525.7209,-377.72 574.3394,-298.5671 596.1023,-263.1363\"/>\n</g>\n<!-- 15&#45;&gt;24 -->\n<g id=\"edge132\" class=\"edge\">\n<title>15&#45;&gt;24</title>\n<path fill=\"none\" stroke=\"#707070\" d=\"M493,-410.0613C493,-374.3213 493,-301.9351 493,-266.2475\"/>\n</g>\n<!-- 15&#45;&gt;25 -->\n<g id=\"edge141\" class=\"edge\">\n<title>15&#45;&gt;25</title>\n<path fill=\"none\" stroke=\"#707070\" d=\"M482.0692,-413.195C460.2791,-377.72 411.6606,-298.5671 389.8977,-263.1363\"/>\n</g>\n<!-- 15&#45;&gt;26 -->\n<g id=\"edge150\" class=\"edge\">\n<title>15&#45;&gt;26</title>\n<path fill=\"none\" stroke=\"#707070\" d=\"M476.6028,-417.6431C434.5351,-383.3992 323.1526,-292.7318 281.2486,-258.6211\"/>\n</g>\n<!-- 15&#45;&gt;27 -->\n<g id=\"edge159\" class=\"edge\">\n<title>15&#45;&gt;27</title>\n<path fill=\"none\" stroke=\"#707070\" d=\"M474.6126,-421.0123C415.2302,-388.7867 228.99,-287.718 169.4783,-255.4223\"/>\n</g>\n<!-- 16&#45;&gt;19 -->\n<g id=\"edge88\" class=\"edge\">\n<title>16&#45;&gt;19</title>\n<path fill=\"none\" stroke=\"#707070\" d=\"M360.6126,-421.0123C301.2302,-388.7867 114.99,-287.718 55.4783,-255.4223\"/>\n</g>\n<!-- 16&#45;&gt;20 -->\n<g id=\"edge97\" class=\"edge\">\n<title>16&#45;&gt;20</title>\n<path fill=\"none\" stroke=\"#707070\" d=\"M398.9524,-424.4941C487.129,-395.7831 841.3595,-280.443 929.2096,-251.8384\"/>\n</g>\n<!-- 16&#45;&gt;21 -->\n<g id=\"edge106\" class=\"edge\">\n<title>16&#45;&gt;21</title>\n<path fill=\"none\" stroke=\"#707070\" d=\"M398.3025,-423.1345C472.8053,-392.8111 741.1815,-283.5795 815.6927,-253.2527\"/>\n</g>\n<!-- 16&#45;&gt;22 -->\n<g id=\"edge115\" class=\"edge\">\n<title>16&#45;&gt;22</title>\n<path fill=\"none\" stroke=\"#707070\" d=\"M397.3874,-421.0123C456.7698,-388.7867 643.01,-287.718 702.5217,-255.4223\"/>\n</g>\n<!-- 16&#45;&gt;23 -->\n<g id=\"edge124\" class=\"edge\">\n<title>16&#45;&gt;23</title>\n<path fill=\"none\" stroke=\"#707070\" d=\"M395.3972,-417.6431C437.4649,-383.3992 548.8474,-292.7318 590.7514,-258.6211\"/>\n</g>\n<!-- 16&#45;&gt;24 -->\n<g id=\"edge133\" class=\"edge\">\n<title>16&#45;&gt;24</title>\n<path fill=\"none\" stroke=\"#707070\" d=\"M389.9308,-413.195C411.7209,-377.72 460.3394,-298.5671 482.1023,-263.1363\"/>\n</g>\n<!-- 16&#45;&gt;25 -->\n<g id=\"edge142\" class=\"edge\">\n<title>16&#45;&gt;25</title>\n<path fill=\"none\" stroke=\"#707070\" d=\"M379,-410.0613C379,-374.3213 379,-301.9351 379,-266.2475\"/>\n</g>\n<!-- 16&#45;&gt;26 -->\n<g id=\"edge151\" class=\"edge\">\n<title>16&#45;&gt;26</title>\n<path fill=\"none\" stroke=\"#707070\" d=\"M368.0692,-413.195C346.2791,-377.72 297.6606,-298.5671 275.8977,-263.1363\"/>\n</g>\n<!-- 16&#45;&gt;27 -->\n<g id=\"edge160\" class=\"edge\">\n<title>16&#45;&gt;27</title>\n<path fill=\"none\" stroke=\"#707070\" d=\"M362.6028,-417.6431C320.5351,-383.3992 209.1526,-292.7318 167.2486,-258.6211\"/>\n</g>\n<!-- 17&#45;&gt;19 -->\n<g id=\"edge89\" class=\"edge\">\n<title>17&#45;&gt;19</title>\n<path fill=\"none\" stroke=\"#707070\" d=\"M248.6028,-417.6431C206.5351,-383.3992 95.1526,-292.7318 53.2486,-258.6211\"/>\n</g>\n<!-- 17&#45;&gt;20 -->\n<g id=\"edge98\" class=\"edge\">\n<title>17&#45;&gt;20</title>\n<path fill=\"none\" stroke=\"#707070\" d=\"M285.1004,-425.5367C385.1727,-398.3832 828.8238,-278.003 928.8985,-250.8488\"/>\n</g>\n<!-- 17&#45;&gt;21 -->\n<g id=\"edge107\" class=\"edge\">\n<title>17&#45;&gt;21</title>\n<path fill=\"none\" stroke=\"#707070\" d=\"M284.9524,-424.4941C373.129,-395.7831 727.3595,-280.443 815.2096,-251.8384\"/>\n</g>\n<!-- 17&#45;&gt;22 -->\n<g id=\"edge116\" class=\"edge\">\n<title>17&#45;&gt;22</title>\n<path fill=\"none\" stroke=\"#707070\" d=\"M284.3025,-423.1345C358.8053,-392.8111 627.1815,-283.5795 701.6927,-253.2527\"/>\n</g>\n<!-- 17&#45;&gt;23 -->\n<g id=\"edge125\" class=\"edge\">\n<title>17&#45;&gt;23</title>\n<path fill=\"none\" stroke=\"#707070\" d=\"M283.3874,-421.0123C342.7698,-388.7867 529.01,-287.718 588.5217,-255.4223\"/>\n</g>\n<!-- 17&#45;&gt;24 -->\n<g id=\"edge134\" class=\"edge\">\n<title>17&#45;&gt;24</title>\n<path fill=\"none\" stroke=\"#707070\" d=\"M281.3972,-417.6431C323.4649,-383.3992 434.8474,-292.7318 476.7514,-258.6211\"/>\n</g>\n<!-- 17&#45;&gt;25 -->\n<g id=\"edge143\" class=\"edge\">\n<title>17&#45;&gt;25</title>\n<path fill=\"none\" stroke=\"#707070\" d=\"M275.9308,-413.195C297.7209,-377.72 346.3394,-298.5671 368.1023,-263.1363\"/>\n</g>\n<!-- 17&#45;&gt;26 -->\n<g id=\"edge152\" class=\"edge\">\n<title>17&#45;&gt;26</title>\n<path fill=\"none\" stroke=\"#707070\" d=\"M265,-410.0613C265,-374.3213 265,-301.9351 265,-266.2475\"/>\n</g>\n<!-- 17&#45;&gt;27 -->\n<g id=\"edge161\" class=\"edge\">\n<title>17&#45;&gt;27</title>\n<path fill=\"none\" stroke=\"#707070\" d=\"M254.0692,-413.195C232.2791,-377.72 183.6606,-298.5671 161.8977,-263.1363\"/>\n</g>\n<!-- 18&#45;&gt;19 -->\n<g id=\"edge90\" class=\"edge\">\n<title>18&#45;&gt;19</title>\n<path fill=\"none\" stroke=\"#707070\" d=\"M140.0692,-413.195C118.2791,-377.72 69.6606,-298.5671 47.8977,-263.1363\"/>\n</g>\n<!-- 18&#45;&gt;20 -->\n<g id=\"edge99\" class=\"edge\">\n<title>18&#45;&gt;20</title>\n<path fill=\"none\" stroke=\"#707070\" d=\"M171.5279,-426.2165C283.2596,-400.2302 817.2187,-276.0437 928.6079,-250.1372\"/>\n</g>\n<!-- 18&#45;&gt;21 -->\n<g id=\"edge108\" class=\"edge\">\n<title>18&#45;&gt;21</title>\n<path fill=\"none\" stroke=\"#707070\" d=\"M171.1004,-425.5367C271.1727,-398.3832 714.8238,-278.003 814.8985,-250.8488\"/>\n</g>\n<!-- 18&#45;&gt;22 -->\n<g id=\"edge117\" class=\"edge\">\n<title>18&#45;&gt;22</title>\n<path fill=\"none\" stroke=\"#707070\" d=\"M170.9524,-424.4941C259.129,-395.7831 613.3595,-280.443 701.2096,-251.8384\"/>\n</g>\n<!-- 18&#45;&gt;23 -->\n<g id=\"edge126\" class=\"edge\">\n<title>18&#45;&gt;23</title>\n<path fill=\"none\" stroke=\"#707070\" d=\"M170.3025,-423.1345C244.8053,-392.8111 513.1815,-283.5795 587.6927,-253.2527\"/>\n</g>\n<!-- 18&#45;&gt;24 -->\n<g id=\"edge135\" class=\"edge\">\n<title>18&#45;&gt;24</title>\n<path fill=\"none\" stroke=\"#707070\" d=\"M169.3874,-421.0123C228.7698,-388.7867 415.01,-287.718 474.5217,-255.4223\"/>\n</g>\n<!-- 18&#45;&gt;25 -->\n<g id=\"edge144\" class=\"edge\">\n<title>18&#45;&gt;25</title>\n<path fill=\"none\" stroke=\"#707070\" d=\"M167.3972,-417.6431C209.4649,-383.3992 320.8474,-292.7318 362.7514,-258.6211\"/>\n</g>\n<!-- 18&#45;&gt;26 -->\n<g id=\"edge153\" class=\"edge\">\n<title>18&#45;&gt;26</title>\n<path fill=\"none\" stroke=\"#707070\" d=\"M161.9308,-413.195C183.7209,-377.72 232.3394,-298.5671 254.1023,-263.1363\"/>\n</g>\n<!-- 18&#45;&gt;27 -->\n<g id=\"edge162\" class=\"edge\">\n<title>18&#45;&gt;27</title>\n<path fill=\"none\" stroke=\"#707070\" d=\"M151,-410.0613C151,-374.3213 151,-301.9351 151,-266.2475\"/>\n</g>\n<!-- 28 -->\n<g id=\"node28\" class=\"node\">\n<title>28</title>\n<ellipse fill=\"#e74c3c\" stroke=\"#e74c3c\" cx=\"493\" cy=\"-59.7982\" rx=\"20.5982\" ry=\"20.5982\"/>\n<text text-anchor=\"middle\" x=\"493\" y=\"-56.0982\" font-family=\"Times,serif\" font-size=\"14.00\" fill=\"#e74c3c\">28</text>\n</g>\n<!-- 19&#45;&gt;28 -->\n<g id=\"edge163\" class=\"edge\">\n<title>19&#45;&gt;28</title>\n<path fill=\"none\" stroke=\"#707070\" d=\"M56.3025,-237.5382C130.8053,-207.2148 399.1815,-97.9832 473.6927,-67.6564\"/>\n</g>\n<!-- 20&#45;&gt;28 -->\n<g id=\"edge164\" class=\"edge\">\n<title>20&#45;&gt;28</title>\n<path fill=\"none\" stroke=\"#707070\" d=\"M929.6975,-237.5382C855.1947,-207.2148 586.8185,-97.9832 512.3073,-67.6564\"/>\n</g>\n<!-- 21&#45;&gt;28 -->\n<g id=\"edge165\" class=\"edge\">\n<title>21&#45;&gt;28</title>\n<path fill=\"none\" stroke=\"#707070\" d=\"M816.6126,-235.416C757.2302,-203.1904 570.99,-102.1217 511.4783,-69.826\"/>\n</g>\n<!-- 22&#45;&gt;28 -->\n<g id=\"edge166\" class=\"edge\">\n<title>22&#45;&gt;28</title>\n<path fill=\"none\" stroke=\"#707070\" d=\"M704.6028,-232.0468C662.5351,-197.8029 551.1526,-107.1355 509.2486,-73.0248\"/>\n</g>\n<!-- 23&#45;&gt;28 -->\n<g id=\"edge167\" class=\"edge\">\n<title>23&#45;&gt;28</title>\n<path fill=\"none\" stroke=\"#707070\" d=\"M596.0692,-227.5987C574.2791,-192.1237 525.6606,-112.9708 503.8977,-77.54\"/>\n</g>\n<!-- 24&#45;&gt;28 -->\n<g id=\"edge168\" class=\"edge\">\n<title>24&#45;&gt;28</title>\n<path fill=\"none\" stroke=\"#707070\" d=\"M493,-224.465C493,-188.725 493,-116.3388 493,-80.6511\"/>\n</g>\n<!-- 25&#45;&gt;28 -->\n<g id=\"edge169\" class=\"edge\">\n<title>25&#45;&gt;28</title>\n<path fill=\"none\" stroke=\"#707070\" d=\"M389.9308,-227.5987C411.7209,-192.1237 460.3394,-112.9708 482.1023,-77.54\"/>\n</g>\n<!-- 26&#45;&gt;28 -->\n<g id=\"edge170\" class=\"edge\">\n<title>26&#45;&gt;28</title>\n<path fill=\"none\" stroke=\"#707070\" d=\"M281.3972,-232.0468C323.4649,-197.8029 434.8474,-107.1355 476.7514,-73.0248\"/>\n</g>\n<!-- 27&#45;&gt;28 -->\n<g id=\"edge171\" class=\"edge\">\n<title>27&#45;&gt;28</title>\n<path fill=\"none\" stroke=\"#707070\" d=\"M169.3874,-235.416C228.7698,-203.1904 415.01,-102.1217 474.5217,-69.826\"/>\n</g>\n</g>\n</svg>\n"
          },
          "metadata": {
            "tags": []
          },
          "execution_count": 23
        }
      ]
    },
    {
      "cell_type": "markdown",
      "metadata": {
        "id": "lOYuC07_GQPt",
        "colab_type": "text"
      },
      "source": [
        "\n",
        "\n",
        "---\n",
        "\n",
        "###Parte 5 - Treinamento do modelo###"
      ]
    },
    {
      "cell_type": "markdown",
      "metadata": {
        "id": "LfGdMjEhGV6J",
        "colab_type": "text"
      },
      "source": [
        "Compilando o modelo (definindo: função de erro, otimizador, métricas)"
      ]
    },
    {
      "cell_type": "code",
      "metadata": {
        "id": "CPdgVYK8tC8m",
        "colab_type": "code",
        "colab": {}
      },
      "source": [
        "from keras import optimizers\n",
        "\n",
        "# Compile model  #################<<<<<<<<<<<<<<<<<<<<TESTANDO OUTRO OTIMIZADOR\n",
        "\n",
        "'''\n",
        "sgd = optimizers.SGD(lr=0.001)\n",
        "model.compile(loss='mean_squared_error', optimizer='sgd', metrics=['accuracy'])\n",
        "'''\n",
        "learning_rate = 0.001\n",
        "\n",
        "opt = optimizers.Adam(lr=learning_rate)\n",
        "\n",
        "model.compile(loss='binary_crossentropy', optimizer= opt, metrics=['accuracy'])"
      ],
      "execution_count": 0,
      "outputs": []
    },
    {
      "cell_type": "markdown",
      "metadata": {
        "id": "1C0savmIGrjk",
        "colab_type": "text"
      },
      "source": [
        "Treinando o modelo"
      ]
    },
    {
      "cell_type": "code",
      "metadata": {
        "id": "eDGgt3RMuTSL",
        "colab_type": "code",
        "colab": {
          "base_uri": "https://localhost:8080/",
          "height": 72
        },
        "outputId": "bf1c4f49-a948-47f3-ed04-4ef93fd314ad"
      },
      "source": [
        "# Fit the model\n",
        "history = model.fit(X_train, y_train, validation_data=(X_test, y_test), epochs=100, batch_size=5, verbose=0)"
      ],
      "execution_count": 25,
      "outputs": [
        {
          "output_type": "stream",
          "text": [
            "WARNING:tensorflow:From /usr/local/lib/python3.6/dist-packages/tensorflow/python/ops/math_ops.py:3066: to_int32 (from tensorflow.python.ops.math_ops) is deprecated and will be removed in a future version.\n",
            "Instructions for updating:\n",
            "Use tf.cast instead.\n"
          ],
          "name": "stdout"
        }
      ]
    },
    {
      "cell_type": "markdown",
      "metadata": {
        "id": "gPrq1HblGuLE",
        "colab_type": "text"
      },
      "source": [
        "Plotando a performance"
      ]
    },
    {
      "cell_type": "code",
      "metadata": {
        "id": "lXGRFV4zdcI5",
        "colab_type": "code",
        "outputId": "d12cf0ac-25d0-4667-f8f1-981595d8b7cc",
        "colab": {
          "base_uri": "https://localhost:8080/",
          "height": 592
        }
      },
      "source": [
        "# list all data in history\n",
        "print(history.history.keys())\n",
        "# summarize history for accuracy\n",
        "plt.plot(history.history['acc'])\n",
        "plt.plot(history.history['val_acc'])\n",
        "plt.title('model accuracy')\n",
        "plt.ylabel('accuracy')\n",
        "plt.xlabel('epoch')\n",
        "plt.legend(['train', 'test'], loc='upper left')\n",
        "plt.show()\n",
        "# summarize history for loss\n",
        "plt.plot(history.history['loss'])\n",
        "plt.plot(history.history['val_loss'])\n",
        "plt.title('model loss')\n",
        "plt.ylabel('loss')\n",
        "plt.xlabel('epoch')\n",
        "plt.legend(['train', 'test'], loc='upper left')\n",
        "plt.show()"
      ],
      "execution_count": 26,
      "outputs": [
        {
          "output_type": "stream",
          "text": [
            "dict_keys(['val_loss', 'val_acc', 'loss', 'acc'])\n"
          ],
          "name": "stdout"
        },
        {
          "output_type": "display_data",
          "data": {
            "image/png": "[encoded data removed]",
            "text/plain": [
              "<Figure size 432x288 with 1 Axes>"
            ]
          },
          "metadata": {
            "tags": []
          }
        },
        {
          "output_type": "display_data",
          "data": {
            "image/png": "[encoded data removed]",
            "text/plain": [
              "<Figure size 432x288 with 1 Axes>"
            ]
          },
          "metadata": {
            "tags": []
          }
        }
      ]
    },
    {
      "cell_type": "markdown",
      "metadata": {
        "id": "qqM8YPmi7dcY",
        "colab_type": "text"
      },
      "source": [
        "\n",
        "\n",
        "---\n",
        "\n",
        "###Parte 6 - Variando o tamanho do batch###"
      ]
    },
    {
      "cell_type": "code",
      "metadata": {
        "id": "9Ol4N-KtxUfy",
        "colab_type": "code",
        "colab": {}
      },
      "source": [
        "#biblioteca para medir consumo de memória\n",
        "import resource\n",
        "\n",
        "from keras.callbacks import Callback\n",
        "\n",
        "class MemoryCallback(Callback):\n",
        "    def on_train_end(self, logs=None):\n",
        "        print(\"Memory usage: \",resource.getrusage(resource.RUSAGE_SELF).ru_maxrss, \"bytes\")"
      ],
      "execution_count": 0,
      "outputs": []
    },
    {
      "cell_type": "code",
      "metadata": {
        "id": "JbmUxHO_ldvD",
        "colab_type": "code",
        "colab": {}
      },
      "source": [
        "#treinando o modelo segundo o número de batches\n",
        "def fit_model(trainX, trainy, testX, testy, n_batch):\n",
        "    # definindo\n",
        "    model = Sequential()\n",
        "    model.add(Dense(9, input_dim=9, kernel_initializer='random_uniform', activation='relu'))\n",
        "    model.add(Dense(9, kernel_initializer='random_uniform', activation='relu'))\n",
        "    model.add(Dense(1, kernel_initializer='random_uniform', activation='sigmoid'))\n",
        "    # compilando\n",
        "    model.compile(loss='binary_crossentropy', optimizer='Adam', metrics=['accuracy'])\n",
        "    # treinando o modelo\n",
        "    history = model.fit(X_train, y_train, validation_data=(X_test, y_test), \n",
        "                        epochs=100, batch_size=batch_sizes[i], \n",
        "                        verbose=0, callbacks=[MemoryCallback()])   #, callbacks=[MemoryCallback()])\n",
        "    # plotando as curvas\n",
        "    plt.plot(history.history['acc'], label='train')\n",
        "    plt.plot(history.history['val_acc'], label='test')\n",
        "    plt.title('batch='+str(n_batch), pad=-60)\n",
        "    \n",
        "    '''\n",
        "    plt.ylabel('accuracy')\n",
        "    plt.xlabel('epoch')\n",
        "    plt.legend(['train', 'test'], loc='lower right')\n",
        "    '''"
      ],
      "execution_count": 0,
      "outputs": []
    },
    {
      "cell_type": "code",
      "metadata": {
        "id": "qr3YAehT7kty",
        "colab_type": "code",
        "outputId": "2effcb70-43d1-4b6e-d95e-42fe95b72c8d",
        "colab": {
          "base_uri": "https://localhost:8080/",
          "height": 1265
        }
      },
      "source": [
        "#biblioteca para plotagem dos gráficos\n",
        "from matplotlib.pyplot import figure\n",
        "#tamanho da imagem a ser impressa\n",
        "figure(num=None, figsize=(10, 8), dpi=80, facecolor='w', edgecolor='k')\n",
        "\n",
        "# plotando as curvas de acordo com os batches\n",
        "batch_sizes = [4, 8, 16, 32, 64, 128, 256, 450]\n",
        "for i in range(len(batch_sizes)):\n",
        "    print(\"\\n---- Treinamento\", i, \"----\")\n",
        "\t# determine the plot number\n",
        "    plot_no = 420 + (i+1)\n",
        "    plt.subplot(plot_no)\n",
        "    plt.subplots_adjust(hspace=0.3)\n",
        "    # treinando o modelo variando os batch sizes\n",
        "    fit_model(X_train, y_train, X_test, y_test, batch_sizes[i])\n",
        "    %time\n",
        "    \n",
        "# plotando as curvas\n",
        "plt.show()"
      ],
      "execution_count": 29,
      "outputs": [
        {
          "output_type": "stream",
          "text": [
            "\n",
            "---- Treinamento 0 ----\n",
            "Memory usage:  321412 bytes\n",
            "CPU times: user 3 µs, sys: 0 ns, total: 3 µs\n",
            "Wall time: 6.68 µs\n",
            "\n",
            "---- Treinamento 1 ----\n",
            "Memory usage:  329060 bytes\n",
            "CPU times: user 3 µs, sys: 0 ns, total: 3 µs\n",
            "Wall time: 6.91 µs\n",
            "\n",
            "---- Treinamento 2 ----\n",
            "Memory usage:  339476 bytes\n",
            "CPU times: user 3 µs, sys: 0 ns, total: 3 µs\n",
            "Wall time: 7.39 µs\n",
            "\n",
            "---- Treinamento 3 ----\n",
            "Memory usage:  350304 bytes\n",
            "CPU times: user 3 µs, sys: 0 ns, total: 3 µs\n",
            "Wall time: 6.68 µs\n",
            "\n",
            "---- Treinamento 4 ----\n",
            "Memory usage:  358368 bytes\n",
            "CPU times: user 3 µs, sys: 0 ns, total: 3 µs\n",
            "Wall time: 6.91 µs\n",
            "\n",
            "---- Treinamento 5 ----\n",
            "Memory usage:  370260 bytes\n",
            "CPU times: user 3 µs, sys: 0 ns, total: 3 µs\n",
            "Wall time: 6.68 µs\n",
            "\n",
            "---- Treinamento 6 ----\n",
            "Memory usage:  381180 bytes\n",
            "CPU times: user 3 µs, sys: 0 ns, total: 3 µs\n",
            "Wall time: 7.15 µs\n",
            "\n",
            "---- Treinamento 7 ----\n",
            "Memory usage:  389748 bytes\n",
            "CPU times: user 3 µs, sys: 0 ns, total: 3 µs\n",
            "Wall time: 7.15 µs\n"
          ],
          "name": "stdout"
        },
        {
          "output_type": "display_data",
          "data": {
            "image/png": "[encoded data removed]",
            "text/plain": [
              "<Figure size 800x640 with 8 Axes>"
            ]
          },
          "metadata": {
            "tags": []
          }
        }
      ]
    },
    {
      "cell_type": "markdown",
      "metadata": {
        "id": "KQHuOlhI_tEm",
        "colab_type": "text"
      },
      "source": [
        "###Parte 7 - Variando a taxa de aprendizado###"
      ]
    },
    {
      "cell_type": "code",
      "metadata": {
        "id": "miNgaeZLxOlz",
        "colab_type": "code",
        "colab": {}
      },
      "source": [
        "# fit a model and plot learning curve\n",
        "def fit_model(trainX, trainy, testX, testy, n_lrn_rate):\n",
        "    # defininindo o modelo\n",
        "    model = Sequential()\n",
        "    model.add(Dense(9, input_dim=9, kernel_initializer='random_uniform', activation='relu'))\n",
        "    model.add(Dense(9, kernel_initializer='random_uniform', activation='relu'))\n",
        "    model.add(Dense(1, kernel_initializer='random_uniform', activation='sigmoid'))\n",
        "    # compilando o modelo\n",
        "    opt = optimizers.Adam(lr=n_lrn_rate)\n",
        "    model.compile(loss='binary_crossentropy', optimizer= opt, metrics=['accuracy'])\n",
        "    # treinando\n",
        "    history = model.fit(X_train, y_train, validation_data=(X_test, y_test), \n",
        "                        epochs=100, batch_size=5, verbose=0 , callbacks=[MemoryCallback()])\n",
        "    # plotando as curvas\n",
        "    plt.plot(history.history['acc'], label='train')\n",
        "    plt.plot(history.history['val_acc'], label='test')\n",
        "    plt.title('learning rate ='+str(n_lrn_rate), pad=-60)\n"
      ],
      "execution_count": 0,
      "outputs": []
    },
    {
      "cell_type": "code",
      "metadata": {
        "id": "RX9H4_NH8i7p",
        "colab_type": "code",
        "outputId": "4551dc49-4c4c-4216-acea-84421002a88d",
        "colab": {
          "base_uri": "https://localhost:8080/",
          "height": 955
        }
      },
      "source": [
        "figure(num=None, figsize=(10, 8), dpi=80, facecolor='w', edgecolor='k')  #(8,6)\n",
        "\n",
        "# cria curvas de acordo com as taxas de aprendizado 'lrn_rates'\n",
        "lrn_rates = [0.001, 0.005, 0.010, 0.05, 0.1, 0.5]\n",
        "for i in range(len(lrn_rates)):\n",
        "    print(\"\\n---- Treinamento\", i, \"----\")\n",
        "\t# determina o número de gráficos\n",
        "    plot_no = 420 + (i+1)\n",
        "    plt.subplot(plot_no)\n",
        "    plt.subplots_adjust(hspace=0.3)\n",
        "    # treina o modelo variando lrn_rates\n",
        "    fit_model(X_train, y_train, X_test, y_test, lrn_rates[i])\n",
        "    %time\n",
        "    \n",
        "# mostra os gráficos\n",
        "plt.show()"
      ],
      "execution_count": 31,
      "outputs": [
        {
          "output_type": "stream",
          "text": [
            "\n",
            "---- Treinamento 0 ----\n",
            "Memory usage:  404636 bytes\n",
            "CPU times: user 4 µs, sys: 0 ns, total: 4 µs\n",
            "Wall time: 7.39 µs\n",
            "\n",
            "---- Treinamento 1 ----\n",
            "Memory usage:  415588 bytes\n",
            "CPU times: user 3 µs, sys: 0 ns, total: 3 µs\n",
            "Wall time: 6.91 µs\n",
            "\n",
            "---- Treinamento 2 ----\n",
            "Memory usage:  426252 bytes\n",
            "CPU times: user 3 µs, sys: 0 ns, total: 3 µs\n",
            "Wall time: 7.15 µs\n",
            "\n",
            "---- Treinamento 3 ----\n",
            "Memory usage:  429800 bytes\n",
            "CPU times: user 3 µs, sys: 0 ns, total: 3 µs\n",
            "Wall time: 7.63 µs\n",
            "\n",
            "---- Treinamento 4 ----\n",
            "Memory usage:  440108 bytes\n",
            "CPU times: user 4 µs, sys: 0 ns, total: 4 µs\n",
            "Wall time: 6.91 µs\n",
            "\n",
            "---- Treinamento 5 ----\n",
            "Memory usage:  450260 bytes\n",
            "CPU times: user 3 µs, sys: 0 ns, total: 3 µs\n",
            "Wall time: 6.91 µs\n"
          ],
          "name": "stdout"
        },
        {
          "output_type": "display_data",
          "data": {
            "image/png": "[encoded data removed]",
            "text/plain": [
              "<Figure size 800x640 with 6 Axes>"
            ]
          },
          "metadata": {
            "tags": []
          }
        }
      ]
    },
    {
      "cell_type": "markdown",
      "metadata": {
        "id": "7yipRAgcG2kG",
        "colab_type": "text"
      },
      "source": [
        "\n",
        "\n",
        "---\n",
        "\n",
        "###Parte 8 - Resultados###"
      ]
    },
    {
      "cell_type": "code",
      "metadata": {
        "id": "9-fOufxTD2-i",
        "colab_type": "code",
        "outputId": "ce37f397-988b-4cfd-d707-ba5eb3340a8e",
        "colab": {
          "base_uri": "https://localhost:8080/",
          "height": 54
        }
      },
      "source": [
        "scores_test = model.evaluate(X_test, y_test)\n",
        "scores_test"
      ],
      "execution_count": 32,
      "outputs": [
        {
          "output_type": "stream",
          "text": [
            "210/210 [==============================] - 0s 74us/step\n"
          ],
          "name": "stdout"
        },
        {
          "output_type": "execute_result",
          "data": {
            "text/plain": [
              "[0.0664955436473801, 0.9809523809523809]"
            ]
          },
          "metadata": {
            "tags": []
          },
          "execution_count": 32
        }
      ]
    },
    {
      "cell_type": "markdown",
      "metadata": {
        "id": "rMxRuajbXP5c",
        "colab_type": "text"
      },
      "source": [
        "Acurácia"
      ]
    },
    {
      "cell_type": "code",
      "metadata": {
        "id": "PjcR3NClSxZB",
        "colab_type": "code",
        "outputId": "b87d599d-0519-4b09-e133-da19990d9572",
        "colab": {
          "base_uri": "https://localhost:8080/",
          "height": 35
        }
      },
      "source": [
        "print(\"%s: %.2f%%\" % (model.metrics_names[1], scores_test[1]*100))"
      ],
      "execution_count": 33,
      "outputs": [
        {
          "output_type": "stream",
          "text": [
            "acc: 98.10%\n"
          ],
          "name": "stdout"
        }
      ]
    },
    {
      "cell_type": "code",
      "metadata": {
        "id": "gSiIuFkJJPK7",
        "colab_type": "code",
        "colab": {}
      },
      "source": [
        "y_pred = model.predict(X_test)"
      ],
      "execution_count": 0,
      "outputs": []
    },
    {
      "cell_type": "code",
      "metadata": {
        "id": "38vrETr3Tc_h",
        "colab_type": "code",
        "outputId": "fab72f81-9c15-4657-9e8a-22340eb3ccb3",
        "colab": {
          "base_uri": "https://localhost:8080/",
          "height": 55
        }
      },
      "source": [
        "rounded = [np.round(x[0]) for x in y_pred]\n",
        "print(rounded)"
      ],
      "execution_count": 35,
      "outputs": [
        {
          "output_type": "stream",
          "text": [
            "[0.0, 0.0, 0.0, 0.0, 1.0, 0.0, 1.0, 0.0, 0.0, 1.0, 0.0, 0.0, 1.0, 0.0, 1.0, 1.0, 1.0, 1.0, 1.0, 1.0, 0.0, 0.0, 1.0, 0.0, 0.0, 0.0, 0.0, 1.0, 0.0, 0.0, 0.0, 1.0, 0.0, 0.0, 1.0, 1.0, 0.0, 0.0, 1.0, 1.0, 0.0, 0.0, 1.0, 1.0, 1.0, 0.0, 1.0, 0.0, 1.0, 1.0, 0.0, 0.0, 0.0, 0.0, 0.0, 0.0, 0.0, 0.0, 0.0, 0.0, 1.0, 0.0, 1.0, 0.0, 1.0, 0.0, 0.0, 0.0, 0.0, 1.0, 0.0, 1.0, 0.0, 0.0, 0.0, 0.0, 0.0, 1.0, 0.0, 1.0, 1.0, 1.0, 0.0, 0.0, 1.0, 0.0, 1.0, 1.0, 0.0, 0.0, 0.0, 0.0, 0.0, 0.0, 1.0, 0.0, 0.0, 0.0, 1.0, 1.0, 1.0, 0.0, 0.0, 0.0, 0.0, 0.0, 0.0, 1.0, 0.0, 0.0, 1.0, 0.0, 0.0, 0.0, 1.0, 0.0, 1.0, 0.0, 1.0, 1.0, 1.0, 0.0, 0.0, 1.0, 0.0, 1.0, 1.0, 0.0, 1.0, 1.0, 0.0, 1.0, 1.0, 0.0, 1.0, 0.0, 0.0, 0.0, 0.0, 0.0, 1.0, 0.0, 1.0, 1.0, 1.0, 0.0, 0.0, 1.0, 1.0, 0.0, 0.0, 1.0, 0.0, 1.0, 0.0, 0.0, 1.0, 0.0, 1.0, 0.0, 0.0, 0.0, 0.0, 0.0, 1.0, 0.0, 1.0, 1.0, 0.0, 0.0, 1.0, 1.0, 0.0, 0.0, 1.0, 1.0, 0.0, 1.0, 1.0, 1.0, 0.0, 1.0, 0.0, 0.0, 1.0, 0.0, 1.0, 0.0, 0.0, 1.0, 1.0, 0.0, 0.0, 0.0, 0.0, 0.0, 0.0, 0.0, 0.0, 1.0, 1.0, 0.0, 0.0, 0.0, 1.0, 0.0, 1.0, 1.0, 1.0, 1.0]\n"
          ],
          "name": "stdout"
        }
      ]
    },
    {
      "cell_type": "markdown",
      "metadata": {
        "id": "Bs0qSZjakO1l",
        "colab_type": "text"
      },
      "source": [
        "Matriz de confusão"
      ]
    },
    {
      "cell_type": "code",
      "metadata": {
        "id": "h1DGeoerPb6G",
        "colab_type": "code",
        "outputId": "0d5a8545-2c91-428d-b6fe-c9ad21734f0e",
        "colab": {
          "base_uri": "https://localhost:8080/",
          "height": 54
        }
      },
      "source": [
        "from sklearn.metrics import confusion_matrix\n",
        "conf_mat = confusion_matrix(y_test, y_pred.round())\n",
        "print(conf_mat)"
      ],
      "execution_count": 36,
      "outputs": [
        {
          "output_type": "stream",
          "text": [
            "[[123   3]\n",
            " [  1  83]]\n"
          ],
          "name": "stdout"
        }
      ]
    },
    {
      "cell_type": "code",
      "metadata": {
        "id": "VLtwHqvgJ7qd",
        "colab_type": "code",
        "outputId": "1e9853a6-5c3a-4892-9468-18deab00c386",
        "colab": {
          "base_uri": "https://localhost:8080/",
          "height": 342
        }
      },
      "source": [
        "df_cm = pd.DataFrame(conf_mat, index = (\"0\", \"1\"), columns = (\"0\", \"1\"))\n",
        "plt.figure(figsize = (7,5))\n",
        "sns.heatmap(df_cm, annot=True, fmt='g')"
      ],
      "execution_count": 37,
      "outputs": [
        {
          "output_type": "execute_result",
          "data": {
            "text/plain": [
              "<matplotlib.axes._subplots.AxesSubplot at 0x7f2c84c596d8>"
            ]
          },
          "metadata": {
            "tags": []
          },
          "execution_count": 37
        },
        {
          "output_type": "display_data",
          "data": {
            "image/png": "[encoded data removed]",
            "text/plain": [
              "<Figure size 504x360 with 2 Axes>"
            ]
          },
          "metadata": {
            "tags": []
          }
        }
      ]
    },
    {
      "cell_type": "markdown",
      "metadata": {
        "id": "CV_p0Ll9X3TG",
        "colab_type": "text"
      },
      "source": [
        "\n",
        "\n",
        "---\n",
        "\n"
      ]
    },
    {
      "cell_type": "markdown",
      "metadata": {
        "id": "gN8WINx8Zhvi",
        "colab_type": "text"
      },
      "source": [
        "###Referências###\n",
        "\n",
        "https://machinelearningmastery.com/how-to-make-classification-and-regression-predictions-for-deep-learning-models-in-keras/\n",
        "\n",
        "https://github.com/keras-team/keras/blob/master/examples/reuters_mlp.py\n",
        "\n",
        "https://machinelearningmastery.com/how-to-control-the-speed-and-stability-of-training-neural-networks-with-gradient-descent-batch-size/\n",
        "\n",
        "https://machinelearningmastery.com/how-to-control-the-speed-and-stability-of-training-neural-networks-with-gradient-descent-batch-size/\n",
        "\n",
        "https://gist.github.com/HareeshBahuleyan/a35750e80348a163e04838ec0039dcca\n",
        "\n",
        "https://www.kdnuggets.com/2019/03/advanced-keras-accurately-resuming-training-process.html"
      ]
    }
  ]
}