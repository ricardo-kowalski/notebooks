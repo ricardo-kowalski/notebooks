{
  "nbformat": 4,
  "nbformat_minor": 0,
  "metadata": {
    "colab": {
      "name": "AULA2_v2.ipynb",
      "version": "0.3.2",
      "provenance": [],
      "collapsed_sections": [],
      "toc_visible": true,
      "include_colab_link": true
    },
    "kernelspec": {
      "name": "python3",
      "display_name": "Python 3"
    }
  },
  "cells": [
    {
      "cell_type": "markdown",
      "metadata": {
        "id": "view-in-github",
        "colab_type": "text"
      },
      "source": [
        "<a href=\"https://colab.research.google.com/github/ricardo-kowalski/notebooks/blob/master/AULA2_v2.ipynb\" target=\"_parent\"><img src=\"https://colab.research.google.com/assets/colab-badge.svg\" alt=\"Open In Colab\"/></a>"
      ]
    },
    {
      "metadata": {
        "id": "yBRXgUwrbvcL",
        "colab_type": "text"
      },
      "cell_type": "markdown",
      "source": [
        "# AULA 2 - ATIVIDADE 1 PCA - RICARDO"
      ]
    },
    {
      "metadata": {
        "id": "dRpN05qZJwSa",
        "colab_type": "text"
      },
      "cell_type": "markdown",
      "source": [
        "## PASSO 0 : Importando as bibliotecas e lendo os dados de entrada ##"
      ]
    },
    {
      "metadata": {
        "id": "xkG0rk3F61a_",
        "colab_type": "code",
        "outputId": "e0737d84-a64f-4d1a-d88e-fc7e376fbca2",
        "colab": {
          "base_uri": "https://localhost:8080/",
          "height": 198
        }
      },
      "cell_type": "code",
      "source": [
        "import pandas as pd\n",
        "\n",
        "import numpy as np\n",
        "\n",
        "from matplotlib import pyplot as plt\n",
        "\n",
        "#np.set_printoptions(suppress=True)  #suprimir notação cientifica se necessário\n",
        "\n",
        "df = pd.read_csv(\"diabetes.csv\")\n",
        "\n",
        "df= df.astype(float) #evita mensagens de erro \n",
        "\n",
        "df = df.drop(['Outcome'], axis = 1)  #desconsidera a última coluna\n",
        "\n",
        "df.head()"
      ],
      "execution_count": 15,
      "outputs": [
        {
          "output_type": "execute_result",
          "data": {
            "text/html": [
              "<div>\n",
              "<style scoped>\n",
              "    .dataframe tbody tr th:only-of-type {\n",
              "        vertical-align: middle;\n",
              "    }\n",
              "\n",
              "    .dataframe tbody tr th {\n",
              "        vertical-align: top;\n",
              "    }\n",
              "\n",
              "    .dataframe thead th {\n",
              "        text-align: right;\n",
              "    }\n",
              "</style>\n",
              "<table border=\"1\" class=\"dataframe\">\n",
              "  <thead>\n",
              "    <tr style=\"text-align: right;\">\n",
              "      <th></th>\n",
              "      <th>Pregnancies</th>\n",
              "      <th>Glucose</th>\n",
              "      <th>BloodPressure</th>\n",
              "      <th>SkinThickness</th>\n",
              "      <th>Insulin</th>\n",
              "      <th>BMI</th>\n",
              "      <th>DiabetesPedigreeFunction</th>\n",
              "      <th>Age</th>\n",
              "    </tr>\n",
              "  </thead>\n",
              "  <tbody>\n",
              "    <tr>\n",
              "      <th>0</th>\n",
              "      <td>6.0</td>\n",
              "      <td>148.0</td>\n",
              "      <td>72.0</td>\n",
              "      <td>35.0</td>\n",
              "      <td>0.0</td>\n",
              "      <td>33.6</td>\n",
              "      <td>627.0</td>\n",
              "      <td>50.0</td>\n",
              "    </tr>\n",
              "    <tr>\n",
              "      <th>1</th>\n",
              "      <td>1.0</td>\n",
              "      <td>85.0</td>\n",
              "      <td>66.0</td>\n",
              "      <td>29.0</td>\n",
              "      <td>0.0</td>\n",
              "      <td>26.6</td>\n",
              "      <td>351.0</td>\n",
              "      <td>31.0</td>\n",
              "    </tr>\n",
              "    <tr>\n",
              "      <th>2</th>\n",
              "      <td>8.0</td>\n",
              "      <td>183.0</td>\n",
              "      <td>64.0</td>\n",
              "      <td>0.0</td>\n",
              "      <td>0.0</td>\n",
              "      <td>23.3</td>\n",
              "      <td>672.0</td>\n",
              "      <td>32.0</td>\n",
              "    </tr>\n",
              "    <tr>\n",
              "      <th>3</th>\n",
              "      <td>1.0</td>\n",
              "      <td>89.0</td>\n",
              "      <td>66.0</td>\n",
              "      <td>23.0</td>\n",
              "      <td>94.0</td>\n",
              "      <td>28.1</td>\n",
              "      <td>167.0</td>\n",
              "      <td>21.0</td>\n",
              "    </tr>\n",
              "    <tr>\n",
              "      <th>4</th>\n",
              "      <td>0.0</td>\n",
              "      <td>137.0</td>\n",
              "      <td>40.0</td>\n",
              "      <td>35.0</td>\n",
              "      <td>168.0</td>\n",
              "      <td>43.1</td>\n",
              "      <td>2288.0</td>\n",
              "      <td>33.0</td>\n",
              "    </tr>\n",
              "  </tbody>\n",
              "</table>\n",
              "</div>"
            ],
            "text/plain": [
              "   Pregnancies  Glucose  BloodPressure  SkinThickness  Insulin   BMI  \\\n",
              "0          6.0    148.0           72.0           35.0      0.0  33.6   \n",
              "1          1.0     85.0           66.0           29.0      0.0  26.6   \n",
              "2          8.0    183.0           64.0            0.0      0.0  23.3   \n",
              "3          1.0     89.0           66.0           23.0     94.0  28.1   \n",
              "4          0.0    137.0           40.0           35.0    168.0  43.1   \n",
              "\n",
              "   DiabetesPedigreeFunction   Age  \n",
              "0                     627.0  50.0  \n",
              "1                     351.0  31.0  \n",
              "2                     672.0  32.0  \n",
              "3                     167.0  21.0  \n",
              "4                    2288.0  33.0  "
            ]
          },
          "metadata": {
            "tags": []
          },
          "execution_count": 15
        }
      ]
    },
    {
      "metadata": {
        "id": "MJczGU3wE9lD",
        "colab_type": "code",
        "colab": {
          "base_uri": "https://localhost:8080/",
          "height": 288
        },
        "outputId": "f288e1fb-3240-427e-a5f7-b0d8c0b31c60"
      },
      "cell_type": "code",
      "source": [
        "df.describe()"
      ],
      "execution_count": 16,
      "outputs": [
        {
          "output_type": "execute_result",
          "data": {
            "text/html": [
              "<div>\n",
              "<style scoped>\n",
              "    .dataframe tbody tr th:only-of-type {\n",
              "        vertical-align: middle;\n",
              "    }\n",
              "\n",
              "    .dataframe tbody tr th {\n",
              "        vertical-align: top;\n",
              "    }\n",
              "\n",
              "    .dataframe thead th {\n",
              "        text-align: right;\n",
              "    }\n",
              "</style>\n",
              "<table border=\"1\" class=\"dataframe\">\n",
              "  <thead>\n",
              "    <tr style=\"text-align: right;\">\n",
              "      <th></th>\n",
              "      <th>Pregnancies</th>\n",
              "      <th>Glucose</th>\n",
              "      <th>BloodPressure</th>\n",
              "      <th>SkinThickness</th>\n",
              "      <th>Insulin</th>\n",
              "      <th>BMI</th>\n",
              "      <th>DiabetesPedigreeFunction</th>\n",
              "      <th>Age</th>\n",
              "    </tr>\n",
              "  </thead>\n",
              "  <tbody>\n",
              "    <tr>\n",
              "      <th>count</th>\n",
              "      <td>768.000000</td>\n",
              "      <td>768.000000</td>\n",
              "      <td>768.000000</td>\n",
              "      <td>768.000000</td>\n",
              "      <td>768.000000</td>\n",
              "      <td>768.000000</td>\n",
              "      <td>768.000000</td>\n",
              "      <td>768.000000</td>\n",
              "    </tr>\n",
              "    <tr>\n",
              "      <th>mean</th>\n",
              "      <td>3.845052</td>\n",
              "      <td>120.894531</td>\n",
              "      <td>69.105469</td>\n",
              "      <td>20.536458</td>\n",
              "      <td>79.799479</td>\n",
              "      <td>31.992578</td>\n",
              "      <td>428.235091</td>\n",
              "      <td>33.240885</td>\n",
              "    </tr>\n",
              "    <tr>\n",
              "      <th>std</th>\n",
              "      <td>3.369578</td>\n",
              "      <td>31.972618</td>\n",
              "      <td>19.355807</td>\n",
              "      <td>15.952218</td>\n",
              "      <td>115.244002</td>\n",
              "      <td>7.884160</td>\n",
              "      <td>340.485655</td>\n",
              "      <td>11.760232</td>\n",
              "    </tr>\n",
              "    <tr>\n",
              "      <th>min</th>\n",
              "      <td>0.000000</td>\n",
              "      <td>0.000000</td>\n",
              "      <td>0.000000</td>\n",
              "      <td>0.000000</td>\n",
              "      <td>0.000000</td>\n",
              "      <td>0.000000</td>\n",
              "      <td>0.100000</td>\n",
              "      <td>21.000000</td>\n",
              "    </tr>\n",
              "    <tr>\n",
              "      <th>25%</th>\n",
              "      <td>1.000000</td>\n",
              "      <td>99.000000</td>\n",
              "      <td>62.000000</td>\n",
              "      <td>0.000000</td>\n",
              "      <td>0.000000</td>\n",
              "      <td>27.300000</td>\n",
              "      <td>205.000000</td>\n",
              "      <td>24.000000</td>\n",
              "    </tr>\n",
              "    <tr>\n",
              "      <th>50%</th>\n",
              "      <td>3.000000</td>\n",
              "      <td>117.000000</td>\n",
              "      <td>72.000000</td>\n",
              "      <td>23.000000</td>\n",
              "      <td>30.500000</td>\n",
              "      <td>32.000000</td>\n",
              "      <td>337.000000</td>\n",
              "      <td>29.000000</td>\n",
              "    </tr>\n",
              "    <tr>\n",
              "      <th>75%</th>\n",
              "      <td>6.000000</td>\n",
              "      <td>140.250000</td>\n",
              "      <td>80.000000</td>\n",
              "      <td>32.000000</td>\n",
              "      <td>127.250000</td>\n",
              "      <td>36.600000</td>\n",
              "      <td>591.500000</td>\n",
              "      <td>41.000000</td>\n",
              "    </tr>\n",
              "    <tr>\n",
              "      <th>max</th>\n",
              "      <td>17.000000</td>\n",
              "      <td>199.000000</td>\n",
              "      <td>122.000000</td>\n",
              "      <td>99.000000</td>\n",
              "      <td>846.000000</td>\n",
              "      <td>67.100000</td>\n",
              "      <td>2329.000000</td>\n",
              "      <td>81.000000</td>\n",
              "    </tr>\n",
              "  </tbody>\n",
              "</table>\n",
              "</div>"
            ],
            "text/plain": [
              "       Pregnancies     Glucose  BloodPressure  SkinThickness     Insulin  \\\n",
              "count   768.000000  768.000000     768.000000     768.000000  768.000000   \n",
              "mean      3.845052  120.894531      69.105469      20.536458   79.799479   \n",
              "std       3.369578   31.972618      19.355807      15.952218  115.244002   \n",
              "min       0.000000    0.000000       0.000000       0.000000    0.000000   \n",
              "25%       1.000000   99.000000      62.000000       0.000000    0.000000   \n",
              "50%       3.000000  117.000000      72.000000      23.000000   30.500000   \n",
              "75%       6.000000  140.250000      80.000000      32.000000  127.250000   \n",
              "max      17.000000  199.000000     122.000000      99.000000  846.000000   \n",
              "\n",
              "              BMI  DiabetesPedigreeFunction         Age  \n",
              "count  768.000000                768.000000  768.000000  \n",
              "mean    31.992578                428.235091   33.240885  \n",
              "std      7.884160                340.485655   11.760232  \n",
              "min      0.000000                  0.100000   21.000000  \n",
              "25%     27.300000                205.000000   24.000000  \n",
              "50%     32.000000                337.000000   29.000000  \n",
              "75%     36.600000                591.500000   41.000000  \n",
              "max     67.100000               2329.000000   81.000000  "
            ]
          },
          "metadata": {
            "tags": []
          },
          "execution_count": 16
        }
      ]
    },
    {
      "metadata": {
        "id": "1iZFLCVY-KH1",
        "colab_type": "text"
      },
      "cell_type": "markdown",
      "source": [
        "## PASSO 1: Normalizando os dados de entrada ##"
      ]
    },
    {
      "metadata": {
        "id": "siAuqS_PI5x_",
        "colab_type": "text"
      },
      "cell_type": "markdown",
      "source": [
        "### Padronização   ( X - μ ) / σ"
      ]
    },
    {
      "metadata": {
        "id": "FYVGvDfq6WJx",
        "colab_type": "code",
        "outputId": "fece43e0-c8d9-4b32-83e3-368738b057e8",
        "colab": {
          "base_uri": "https://localhost:8080/",
          "height": 348
        }
      },
      "cell_type": "code",
      "source": [
        "df = (df - df.mean())/df.std()\n",
        "\n",
        "df.head(10)"
      ],
      "execution_count": 17,
      "outputs": [
        {
          "output_type": "execute_result",
          "data": {
            "text/html": [
              "<div>\n",
              "<style scoped>\n",
              "    .dataframe tbody tr th:only-of-type {\n",
              "        vertical-align: middle;\n",
              "    }\n",
              "\n",
              "    .dataframe tbody tr th {\n",
              "        vertical-align: top;\n",
              "    }\n",
              "\n",
              "    .dataframe thead th {\n",
              "        text-align: right;\n",
              "    }\n",
              "</style>\n",
              "<table border=\"1\" class=\"dataframe\">\n",
              "  <thead>\n",
              "    <tr style=\"text-align: right;\">\n",
              "      <th></th>\n",
              "      <th>Pregnancies</th>\n",
              "      <th>Glucose</th>\n",
              "      <th>BloodPressure</th>\n",
              "      <th>SkinThickness</th>\n",
              "      <th>Insulin</th>\n",
              "      <th>BMI</th>\n",
              "      <th>DiabetesPedigreeFunction</th>\n",
              "      <th>Age</th>\n",
              "    </tr>\n",
              "  </thead>\n",
              "  <tbody>\n",
              "    <tr>\n",
              "      <th>0</th>\n",
              "      <td>0.639530</td>\n",
              "      <td>0.847771</td>\n",
              "      <td>0.149543</td>\n",
              "      <td>0.906679</td>\n",
              "      <td>-0.692439</td>\n",
              "      <td>0.203880</td>\n",
              "      <td>0.583769</td>\n",
              "      <td>1.425067</td>\n",
              "    </tr>\n",
              "    <tr>\n",
              "      <th>1</th>\n",
              "      <td>-0.844335</td>\n",
              "      <td>-1.122665</td>\n",
              "      <td>-0.160441</td>\n",
              "      <td>0.530556</td>\n",
              "      <td>-0.692439</td>\n",
              "      <td>-0.683976</td>\n",
              "      <td>-0.226838</td>\n",
              "      <td>-0.190548</td>\n",
              "    </tr>\n",
              "    <tr>\n",
              "      <th>2</th>\n",
              "      <td>1.233077</td>\n",
              "      <td>1.942458</td>\n",
              "      <td>-0.263769</td>\n",
              "      <td>-1.287373</td>\n",
              "      <td>-0.692439</td>\n",
              "      <td>-1.102537</td>\n",
              "      <td>0.715933</td>\n",
              "      <td>-0.105515</td>\n",
              "    </tr>\n",
              "    <tr>\n",
              "      <th>3</th>\n",
              "      <td>-0.844335</td>\n",
              "      <td>-0.997558</td>\n",
              "      <td>-0.160441</td>\n",
              "      <td>0.154433</td>\n",
              "      <td>0.123221</td>\n",
              "      <td>-0.493721</td>\n",
              "      <td>-0.767243</td>\n",
              "      <td>-1.040871</td>\n",
              "    </tr>\n",
              "    <tr>\n",
              "      <th>4</th>\n",
              "      <td>-1.141108</td>\n",
              "      <td>0.503727</td>\n",
              "      <td>-1.503707</td>\n",
              "      <td>0.906679</td>\n",
              "      <td>0.765337</td>\n",
              "      <td>1.408828</td>\n",
              "      <td>5.462095</td>\n",
              "      <td>-0.020483</td>\n",
              "    </tr>\n",
              "    <tr>\n",
              "      <th>5</th>\n",
              "      <td>0.342757</td>\n",
              "      <td>-0.153085</td>\n",
              "      <td>0.252871</td>\n",
              "      <td>-1.287373</td>\n",
              "      <td>-0.692439</td>\n",
              "      <td>-0.810813</td>\n",
              "      <td>-0.667385</td>\n",
              "      <td>-0.275580</td>\n",
              "    </tr>\n",
              "    <tr>\n",
              "      <th>6</th>\n",
              "      <td>-0.250789</td>\n",
              "      <td>-1.341602</td>\n",
              "      <td>-0.987066</td>\n",
              "      <td>0.718617</td>\n",
              "      <td>0.071158</td>\n",
              "      <td>-0.125895</td>\n",
              "      <td>-0.529347</td>\n",
              "      <td>-0.615709</td>\n",
              "    </tr>\n",
              "    <tr>\n",
              "      <th>7</th>\n",
              "      <td>1.826623</td>\n",
              "      <td>-0.184362</td>\n",
              "      <td>-3.570271</td>\n",
              "      <td>-1.287373</td>\n",
              "      <td>-0.692439</td>\n",
              "      <td>0.419502</td>\n",
              "      <td>-0.864163</td>\n",
              "      <td>-0.360612</td>\n",
              "    </tr>\n",
              "    <tr>\n",
              "      <th>8</th>\n",
              "      <td>-0.547562</td>\n",
              "      <td>2.380333</td>\n",
              "      <td>0.046215</td>\n",
              "      <td>1.533551</td>\n",
              "      <td>4.019303</td>\n",
              "      <td>-0.189314</td>\n",
              "      <td>-0.793675</td>\n",
              "      <td>1.680164</td>\n",
              "    </tr>\n",
              "    <tr>\n",
              "      <th>9</th>\n",
              "      <td>1.233077</td>\n",
              "      <td>0.128406</td>\n",
              "      <td>1.389481</td>\n",
              "      <td>-1.287373</td>\n",
              "      <td>-0.692439</td>\n",
              "      <td>-4.057829</td>\n",
              "      <td>-0.576339</td>\n",
              "      <td>1.765196</td>\n",
              "    </tr>\n",
              "  </tbody>\n",
              "</table>\n",
              "</div>"
            ],
            "text/plain": [
              "   Pregnancies   Glucose  BloodPressure  SkinThickness   Insulin       BMI  \\\n",
              "0     0.639530  0.847771       0.149543       0.906679 -0.692439  0.203880   \n",
              "1    -0.844335 -1.122665      -0.160441       0.530556 -0.692439 -0.683976   \n",
              "2     1.233077  1.942458      -0.263769      -1.287373 -0.692439 -1.102537   \n",
              "3    -0.844335 -0.997558      -0.160441       0.154433  0.123221 -0.493721   \n",
              "4    -1.141108  0.503727      -1.503707       0.906679  0.765337  1.408828   \n",
              "5     0.342757 -0.153085       0.252871      -1.287373 -0.692439 -0.810813   \n",
              "6    -0.250789 -1.341602      -0.987066       0.718617  0.071158 -0.125895   \n",
              "7     1.826623 -0.184362      -3.570271      -1.287373 -0.692439  0.419502   \n",
              "8    -0.547562  2.380333       0.046215       1.533551  4.019303 -0.189314   \n",
              "9     1.233077  0.128406       1.389481      -1.287373 -0.692439 -4.057829   \n",
              "\n",
              "   DiabetesPedigreeFunction       Age  \n",
              "0                  0.583769  1.425067  \n",
              "1                 -0.226838 -0.190548  \n",
              "2                  0.715933 -0.105515  \n",
              "3                 -0.767243 -1.040871  \n",
              "4                  5.462095 -0.020483  \n",
              "5                 -0.667385 -0.275580  \n",
              "6                 -0.529347 -0.615709  \n",
              "7                 -0.864163 -0.360612  \n",
              "8                 -0.793675  1.680164  \n",
              "9                 -0.576339  1.765196  "
            ]
          },
          "metadata": {
            "tags": []
          },
          "execution_count": 17
        }
      ]
    },
    {
      "metadata": {
        "id": "A3648_s8-Dwr",
        "colab_type": "text"
      },
      "cell_type": "markdown",
      "source": [
        "## PASSO 2: Calculando a matriz de covariância ##"
      ]
    },
    {
      "metadata": {
        "id": "h6T7uoWSz8zw",
        "colab_type": "code",
        "outputId": "1f5e367d-9bdf-4d7a-e0a3-6abc8cbc96b4",
        "colab": {
          "base_uri": "https://localhost:8080/",
          "height": 308
        }
      },
      "cell_type": "code",
      "source": [
        "df_cov = np.cov(np.transpose(df))    #calcula a matriz de covariância, df de ser transposta pois a função cov associa os valores às colunas e descrições às linhas\n",
        "\n",
        "df_cov"
      ],
      "execution_count": 19,
      "outputs": [
        {
          "output_type": "execute_result",
          "data": {
            "text/plain": [
              "array([[ 1.        ,  0.12945867,  0.14128198, -0.08167177, -0.07353461,\n",
              "         0.01768309, -0.02620518,  0.54434123],\n",
              "       [ 0.12945867,  1.        ,  0.15258959,  0.05732789,  0.33135711,\n",
              "         0.22107107,  0.13316295,  0.26351432],\n",
              "       [ 0.14128198,  0.15258959,  1.        ,  0.20737054,  0.08893338,\n",
              "         0.28180529,  0.05143577,  0.23952795],\n",
              "       [-0.08167177,  0.05732789,  0.20737054,  1.        ,  0.43678257,\n",
              "         0.3925732 ,  0.15427391, -0.11397026],\n",
              "       [-0.07353461,  0.33135711,  0.08893338,  0.43678257,  1.        ,\n",
              "         0.19785906,  0.18520682, -0.04216295],\n",
              "       [ 0.01768309,  0.22107107,  0.28180529,  0.3925732 ,  0.19785906,\n",
              "         1.        ,  0.10357518,  0.03624187],\n",
              "       [-0.02620518,  0.13316295,  0.05143577,  0.15427391,  0.18520682,\n",
              "         0.10357518,  1.        ,  0.01796969],\n",
              "       [ 0.54434123,  0.26351432,  0.23952795, -0.11397026, -0.04216295,\n",
              "         0.03624187,  0.01796969,  1.        ]])"
            ]
          },
          "metadata": {
            "tags": []
          },
          "execution_count": 19
        }
      ]
    },
    {
      "metadata": {
        "id": "vuHYgBl3NFMn",
        "colab_type": "text"
      },
      "cell_type": "markdown",
      "source": [
        "## PASSO 3: Calcular os Autovetores e Autovalores"
      ]
    },
    {
      "metadata": {
        "id": "Ze4Z2k53S9rl",
        "colab_type": "text"
      },
      "cell_type": "markdown",
      "source": [
        "### Autovetores e Autovalores Associados"
      ]
    },
    {
      "metadata": {
        "id": "59tHv8aJOy6z",
        "colab_type": "code",
        "outputId": "0f97cbba-cd71-4c77-ed61-3a254265e970",
        "colab": {
          "base_uri": "https://localhost:8080/",
          "height": 417
        }
      },
      "cell_type": "code",
      "source": [
        "import numpy.linalg as la           # Importa pacote numpy.linalg para efetuar os calculos de autovalores e autovetores\n",
        "\n",
        "df_w, df_v = la.eig(df_cov)                # Obtém autovalores e autovetores\n",
        "\n",
        "print (\"autovalores: \\n\", df_w)\n",
        "\n",
        "print (\"\\n\\nautovetores: \\n\", df_v)"
      ],
      "execution_count": 20,
      "outputs": [
        {
          "output_type": "stream",
          "text": [
            "autovalores: \n",
            " [2.07897348 1.72891966 0.42280373 0.40448332 0.6837714  0.76343037\n",
            " 0.87631783 1.04130022]\n",
            "\n",
            "\n",
            "autovetores: \n",
            " [[-0.13831882 -0.59155996 -0.59033121  0.12647625 -0.17652131  0.48103903\n",
            "  -0.06103119  0.01242583]\n",
            " [-0.39875073 -0.16586668 -0.05876751  0.45085901 -0.07892819 -0.47340038\n",
            "   0.4201647  -0.4470824 ]\n",
            " [-0.36896502 -0.1744233  -0.18749438 -0.00803119  0.62469186 -0.3574891\n",
            "  -0.20101879  0.48966903]\n",
            " [-0.43561538  0.33968555  0.28534288  0.56157787  0.00907552  0.4879434\n",
            "  -0.03242908  0.24256945]\n",
            " [-0.43663875  0.26128147 -0.14722949 -0.54699475  0.31386751  0.32418075\n",
            "   0.32764096 -0.33052116]\n",
            " [-0.44952385  0.10761986 -0.04915028 -0.34160208 -0.68626998 -0.23032883\n",
            "  -0.01033462  0.37830396]\n",
            " [-0.24724604  0.11696992 -0.0388835  -0.00380351 -0.04777916 -0.08254465\n",
            "  -0.8183493  -0.4948424 ]\n",
            " [-0.20521722 -0.61903416  0.71124998 -0.22222961  0.02293778  0.11682536\n",
            "  -0.03355064 -0.06418807]]\n"
          ],
          "name": "stdout"
        }
      ]
    },
    {
      "metadata": {
        "id": "iMoBCFsEPRuw",
        "colab_type": "code",
        "outputId": "af1eeca8-2a3c-4e83-8d92-b7d98a956908",
        "colab": {
          "base_uri": "https://localhost:8080/",
          "height": 417
        }
      },
      "cell_type": "code",
      "source": [
        "ind = np.argsort(df_w)[::-1]  # Obtém índices para ordenação decrescente dos autovalores\n",
        "\n",
        "w_dec = df_w[ind]\n",
        "\n",
        "print ('Ordenação decrescente autovalores: \\n', w_dec)\n",
        "\n",
        "v_dec = df_v[ind]\n",
        "\n",
        "print ('\\n\\nOrdenação decrescente autovetores: \\n', v_dec)"
      ],
      "execution_count": 21,
      "outputs": [
        {
          "output_type": "stream",
          "text": [
            "Ordenação decrescente autovalores: \n",
            " [2.07897348 1.72891966 1.04130022 0.87631783 0.76343037 0.6837714\n",
            " 0.42280373 0.40448332]\n",
            "\n",
            "\n",
            "Ordenação decrescente autovetores: \n",
            " [[-0.13831882 -0.59155996 -0.59033121  0.12647625 -0.17652131  0.48103903\n",
            "  -0.06103119  0.01242583]\n",
            " [-0.39875073 -0.16586668 -0.05876751  0.45085901 -0.07892819 -0.47340038\n",
            "   0.4201647  -0.4470824 ]\n",
            " [-0.20521722 -0.61903416  0.71124998 -0.22222961  0.02293778  0.11682536\n",
            "  -0.03355064 -0.06418807]\n",
            " [-0.24724604  0.11696992 -0.0388835  -0.00380351 -0.04777916 -0.08254465\n",
            "  -0.8183493  -0.4948424 ]\n",
            " [-0.44952385  0.10761986 -0.04915028 -0.34160208 -0.68626998 -0.23032883\n",
            "  -0.01033462  0.37830396]\n",
            " [-0.43663875  0.26128147 -0.14722949 -0.54699475  0.31386751  0.32418075\n",
            "   0.32764096 -0.33052116]\n",
            " [-0.36896502 -0.1744233  -0.18749438 -0.00803119  0.62469186 -0.3574891\n",
            "  -0.20101879  0.48966903]\n",
            " [-0.43561538  0.33968555  0.28534288  0.56157787  0.00907552  0.4879434\n",
            "  -0.03242908  0.24256945]]\n"
          ],
          "name": "stdout"
        }
      ]
    },
    {
      "metadata": {
        "id": "aLD8by6KST5C",
        "colab_type": "text"
      },
      "cell_type": "markdown",
      "source": [
        "### Verificando a ortogonalidade"
      ]
    },
    {
      "metadata": {
        "id": "MP8wxM4gWRac",
        "colab_type": "code",
        "outputId": "c22c1dc7-5a3f-499b-a88a-6f25464bd0bd",
        "colab": {
          "base_uri": "https://localhost:8080/",
          "height": 72
        }
      },
      "cell_type": "code",
      "source": [
        "print (\"%.2f\" % la.norm(df_v[0])) # \"%.2f\" foi utilizado para arredondar os valores obtidos\n",
        "\n",
        "\n",
        "print (\"%.2f\" % la.norm(df_v[1]))\n",
        "\n",
        "\n",
        "print (\"%.2f\" % np.dot(df_v[0],df_v[1]))"
      ],
      "execution_count": 22,
      "outputs": [
        {
          "output_type": "stream",
          "text": [
            "1.00\n",
            "1.00\n",
            "-0.00\n"
          ],
          "name": "stdout"
        }
      ]
    },
    {
      "metadata": {
        "id": "eM0mrWTjX2ND",
        "colab_type": "text"
      },
      "cell_type": "markdown",
      "source": [
        "## PASSO 4:  Taxa de variância explicada (Explained Variance Ratio – EVR) "
      ]
    },
    {
      "metadata": {
        "id": "dx4ONMhl-kdp",
        "colab_type": "code",
        "outputId": "266f39fb-d7f3-41d2-b5ba-43ebfd5e352b",
        "colab": {
          "base_uri": "https://localhost:8080/",
          "height": 54
        }
      },
      "cell_type": "code",
      "source": [
        "tx_var = w_dec/np.sum(w_dec)\n",
        "\n",
        "print(tx_var)"
      ],
      "execution_count": 34,
      "outputs": [
        {
          "output_type": "stream",
          "text": [
            "[0.25987168 0.21611496 0.13016253 0.10953973 0.0954288  0.08547142\n",
            " 0.05285047 0.05056042]\n"
          ],
          "name": "stdout"
        }
      ]
    },
    {
      "metadata": {
        "id": "jr-rvQs3b8zL",
        "colab_type": "text"
      },
      "cell_type": "markdown",
      "source": [
        "É possível notar acima que 26% da variância encontra-se na direção do primeiro componente principal v[0], seguida de 21% de v[1] e 13% de v[7]"
      ]
    },
    {
      "metadata": {
        "id": "lp2Cr4DaKpkq",
        "colab_type": "code",
        "colab": {
          "base_uri": "https://localhost:8080/",
          "height": 376
        },
        "outputId": "9e1521c3-db9b-41f4-d658-1f65f39def39"
      },
      "cell_type": "code",
      "source": [
        "pcs = range(1,len(v_dec)+1)\n",
        "\n",
        "plt.title(\"Taxa de variância explicada vs PC's\")\n",
        "\n",
        "plt.xlabel('Componentes Principais')\n",
        "\n",
        "plt.ylabel('Taxa de variância explicada')\n",
        "\n",
        "plt.bar(pcs, tx_var)\n",
        "\n",
        "plt.show()"
      ],
      "execution_count": 39,
      "outputs": [
        {
          "output_type": "display_data",
          "data": {
            "image/png": "[encoded data removed]",
            "text/plain": [
              "<Figure size 576x396 with 1 Axes>"
            ]
          },
          "metadata": {
            "tags": []
          }
        }
      ]
    },
    {
      "metadata": {
        "id": "OiTgwERITKT1",
        "colab_type": "text"
      },
      "cell_type": "markdown",
      "source": [
        "### Taxa de Variância Cumulativa ###"
      ]
    },
    {
      "metadata": {
        "id": "A33XJW-sSDEt",
        "colab_type": "code",
        "colab": {
          "base_uri": "https://localhost:8080/",
          "height": 54
        },
        "outputId": "d22a6bf8-3813-481a-faa3-08b6bd7d048e"
      },
      "cell_type": "code",
      "source": [
        "tx_var_cumul = np.cumsum(w_dec)/np.sum(w_dec)\n",
        "\n",
        "print(tx_var_cumul)"
      ],
      "execution_count": 36,
      "outputs": [
        {
          "output_type": "stream",
          "text": [
            "[0.25987168 0.47598664 0.60614917 0.7156889  0.81111769 0.89658912\n",
            " 0.94943958 1.        ]\n"
          ],
          "name": "stdout"
        }
      ]
    },
    {
      "metadata": {
        "id": "w77XyLgtMiRQ",
        "colab_type": "code",
        "colab": {
          "base_uri": "https://localhost:8080/",
          "height": 431
        },
        "outputId": "0b1a7e3b-5300-41eb-bcd1-267076c44ad8"
      },
      "cell_type": "code",
      "source": [
        "print(\"Cumulative proportion of variance explained vector: \\n%s\" %tx_var_cumul)\n",
        "\n",
        "num_comp = range(1,len(v_dec)+1)\n",
        "\n",
        "plt.title(\"Taxa de variância cumulativa\")\n",
        "\n",
        "plt.xlabel('Componentes Principais')\n",
        "\n",
        "plt.ylabel('Taxa de variância explicada')\n",
        "\n",
        "plt.bar(num_comp, tx_var_cumul)\n",
        "\n",
        "plt.show()"
      ],
      "execution_count": 40,
      "outputs": [
        {
          "output_type": "stream",
          "text": [
            "Cumulative proportion of variance explained vector: \n",
            "[0.25987168 0.47598664 0.60614917 0.7156889  0.81111769 0.89658912\n",
            " 0.94943958 1.        ]\n"
          ],
          "name": "stdout"
        },
        {
          "output_type": "display_data",
          "data": {
            "image/png": "[encoded data removed]",
            "text/plain": [
              "<Figure size 576x396 with 1 Axes>"
            ]
          },
          "metadata": {
            "tags": []
          }
        }
      ]
    },
    {
      "metadata": {
        "id": "1xXNOVg1T04e",
        "colab_type": "text"
      },
      "cell_type": "markdown",
      "source": [
        "A taxa de variância cumulativa nos mostra por exemplo que os 2 primeiros valores nos fornecem uma taxa de 47% de representatividade, os 3 primeiros 60%, os 4 primeiros de 71% e assim por diantes. \n",
        "\n",
        "Porém nota-se que para uma boa representação seriam necessários pelo menos 5 ou 6 PCA's reduzindo em 2 ou 3 dimensões a nossa análise."
      ]
    },
    {
      "metadata": {
        "id": "8xE4dJSbUyUv",
        "colab_type": "text"
      },
      "cell_type": "markdown",
      "source": [
        "----------------------------------------------------------------------------------------------------------------------------------------------------------------"
      ]
    }
  ]
}